{
  "cells": [
    {
      "cell_type": "markdown",
      "metadata": {
        "id": "view-in-github",
        "colab_type": "text"
      },
      "source": [
        "<a href=\"https://colab.research.google.com/github/navrgithub/NLP_Authorship_Attribution/blob/main/Baseline_Task1.ipynb\" target=\"_parent\"><img src=\"https://colab.research.google.com/assets/colab-badge.svg\" alt=\"Open In Colab\"/></a>"
      ]
    },
    {
      "cell_type": "code",
      "execution_count": null,
      "id": "6377e4a6",
      "metadata": {
        "colab": {
          "base_uri": "https://localhost:8080/"
        },
        "id": "6377e4a6",
        "outputId": "c2a8d509-6e8d-4c36-94f3-4fa9c012d33c"
      },
      "outputs": [
        {
          "output_type": "stream",
          "name": "stdout",
          "text": [
            "                                             Generation        label\n",
            "0     Latest Headlines on CNN Business the great shu...        human\n",
            "1     China wants to take a victory lap over its han...        human\n",
            "2     Coronavirus disinformation creates challenges ...        human\n",
            "3     China coronavirus: Eating wild animals made il...        human\n",
            "4     China's economy could shrink for the first tim...        human\n",
            "...                                                 ...          ...\n",
            "1061         100%. All parts of your body are your own.  InstructGPT\n",
            "1062  1. Establish regular cleaning schedules for al...  InstructGPT\n",
            "1063  In some cities around the world, including Tok...  InstructGPT\n",
            "1064  . The BBC News app is a comprehensive and easy...  InstructGPT\n",
            "1065  The BBC is implementing several steps to stren...  InstructGPT\n",
            "\n",
            "[11727 rows x 2 columns]\n"
          ]
        }
      ],
      "source": [
        "import csv\n",
        "import pandas as pd \n",
        "    \n",
        "# making dataframe \n",
        "df_human = pd.read_csv(\"new_human.csv\") \n",
        "df_human.drop(columns=[\"Unnamed: 0\"], inplace=True)\n",
        "# print(df_human)\n",
        "\n",
        "df_ctrl = pd.read_csv(\"new_ctrl.csv\") \n",
        "df_ctrl.drop(columns=[\"Unnamed: 0\"], inplace=True)\n",
        "# print(df_ctrl)\n",
        "\n",
        "df_gpt = pd.read_csv(\"new_gpt.csv\") \n",
        "df_gpt.drop(columns=[\"Unnamed: 0\"], inplace=True)\n",
        "# print(df_gpt)\n",
        "\n",
        "df_gpt2 = pd.read_csv(\"new_gpt2.csv\") \n",
        "df_gpt2.drop(columns=[\"Unnamed: 0\"], inplace=True)\n",
        "# print(df_gpt2)\n",
        "\n",
        "df_grover = pd.read_csv(\"new_grover.csv\") \n",
        "df_grover.drop(columns=[\"Unnamed: 0\"], inplace=True)\n",
        "# print(df_grover)\n",
        "\n",
        "df_xlm = pd.read_csv(\"new_xlm.csv\") \n",
        "df_xlm.drop(columns=[\"Unnamed: 0\"], inplace=True)\n",
        "# print(df_xlm)\n",
        "\n",
        "df_xlnet = pd.read_csv(\"new_xlnet.csv\") \n",
        "df_xlnet.drop(columns=[\"Unnamed: 0\"], inplace=True)\n",
        "# print(df_xlnet)\n",
        "\n",
        "df_pplm = pd.read_csv(\"new_pplm.csv\") \n",
        "df_pplm.drop(columns=[\"Unnamed: 0\"], inplace=True)\n",
        "# print(df_pplm)\n",
        "\n",
        "df_fair = pd.read_csv(\"new_fair.csv\") \n",
        "df_fair.drop(columns=[\"Unnamed: 0\"], inplace=True)\n",
        "# print(df_fair)\n",
        "\n",
        "df_gpt3 = pd.read_csv(\"final_text_curie_output.csv\") \n",
        "df_gpt3.drop(columns=[\"Prompts\"], inplace=True)\n",
        "df_gpt3.drop(columns=[\"Unnamed: 0\"], inplace=True)\n",
        "df_gpt3 = df_gpt3.rename(columns={'Responses': 'Generation', 'Model Name': 'label'})\n",
        "# print(df_gpt3)\n",
        "\n",
        "df_instructgpt = pd.read_csv(\"final_instructgpt_results.csv\") \n",
        "df_instructgpt.drop(columns=[\"Title\"], inplace=True)\n",
        "df_instructgpt.drop(columns=[\"Unnamed: 0\"], inplace=True)\n",
        "df_instructgpt = df_instructgpt.rename(columns={'InstructGPT_result': 'Generation', 'Model': 'label'})\n",
        "# print(df_instructgpt)\n",
        "\n",
        "result = pd.concat([df_human, df_ctrl, df_gpt, df_gpt2, df_grover,df_xlm, df_xlnet, df_pplm, df_fair, df_gpt3, df_instructgpt], axis=0)\n",
        "result.drop(columns=[\"number\"], inplace=True)\n",
        "print(result)\n",
        "\n"
      ]
    },
    {
      "cell_type": "code",
      "source": [
        "print(result)\n",
        "\n",
        "unique_names_df = result.drop_duplicates(subset='label',keep = 'first')\n",
        "print(unique_names_df)\n",
        "\n",
        "unique_names_df"
      ],
      "metadata": {
        "colab": {
          "base_uri": "https://localhost:8080/",
          "height": 846
        },
        "id": "jkn8nERRbi1Q",
        "outputId": "6f6e31a0-5e2d-44f4-c84b-322d6974b440"
      },
      "id": "jkn8nERRbi1Q",
      "execution_count": null,
      "outputs": [
        {
          "output_type": "stream",
          "name": "stdout",
          "text": [
            "                                             Generation        label\n",
            "0     Latest Headlines on CNN Business the great shu...        human\n",
            "1     China wants to take a victory lap over its han...        human\n",
            "2     Coronavirus disinformation creates challenges ...        human\n",
            "3     China coronavirus: Eating wild animals made il...        human\n",
            "4     China's economy could shrink for the first tim...        human\n",
            "...                                                 ...          ...\n",
            "1061         100%. All parts of your body are your own.  InstructGPT\n",
            "1062  1. Establish regular cleaning schedules for al...  InstructGPT\n",
            "1063  In some cities around the world, including Tok...  InstructGPT\n",
            "1064  . The BBC News app is a comprehensive and easy...  InstructGPT\n",
            "1065  The BBC is implementing several steps to stren...  InstructGPT\n",
            "\n",
            "[11727 rows x 2 columns]\n",
            "                                          Generation        label\n",
            "0  Latest Headlines on CNN Business the great shu...        human\n",
            "0  latest headlines on cnn business tl;dr the u.s...         ctrl\n",
            "0  latest headlines on cnn business. \" it's a goo...          gpt\n",
            "0  latest headlines on cnn business - google's go...         gpt2\n",
            "0  Latest Headlines on CNN Business cnn business ...       grover\n",
            "0  latest headlines on cnn business, tuesday and ...          xlm\n",
            "0  latest headlines on cnn business dedudithitt i...        xlnet\n",
            "0  | | latest headlines on cnn business cnn busin...         pplm\n",
            "0  latest headlines on cnn business : u.s. unempl...         fair\n",
            "0  A new system of taxation in the United StatesT...        GPT-3\n",
            "0  1. The Dow plummets over 600 points as second ...  InstructGPT\n"
          ]
        },
        {
          "output_type": "execute_result",
          "data": {
            "text/plain": [
              "                                          Generation        label\n",
              "0  Latest Headlines on CNN Business the great shu...        human\n",
              "0  latest headlines on cnn business tl;dr the u.s...         ctrl\n",
              "0  latest headlines on cnn business. \" it's a goo...          gpt\n",
              "0  latest headlines on cnn business - google's go...         gpt2\n",
              "0  Latest Headlines on CNN Business cnn business ...       grover\n",
              "0  latest headlines on cnn business, tuesday and ...          xlm\n",
              "0  latest headlines on cnn business dedudithitt i...        xlnet\n",
              "0  | | latest headlines on cnn business cnn busin...         pplm\n",
              "0  latest headlines on cnn business : u.s. unempl...         fair\n",
              "0  A new system of taxation in the United StatesT...        GPT-3\n",
              "0  1. The Dow plummets over 600 points as second ...  InstructGPT"
            ],
            "text/html": [
              "\n",
              "  <div id=\"df-99302fbc-cab8-46b2-a46f-fa0548cbc893\">\n",
              "    <div class=\"colab-df-container\">\n",
              "      <div>\n",
              "<style scoped>\n",
              "    .dataframe tbody tr th:only-of-type {\n",
              "        vertical-align: middle;\n",
              "    }\n",
              "\n",
              "    .dataframe tbody tr th {\n",
              "        vertical-align: top;\n",
              "    }\n",
              "\n",
              "    .dataframe thead th {\n",
              "        text-align: right;\n",
              "    }\n",
              "</style>\n",
              "<table border=\"1\" class=\"dataframe\">\n",
              "  <thead>\n",
              "    <tr style=\"text-align: right;\">\n",
              "      <th></th>\n",
              "      <th>Generation</th>\n",
              "      <th>label</th>\n",
              "    </tr>\n",
              "  </thead>\n",
              "  <tbody>\n",
              "    <tr>\n",
              "      <th>0</th>\n",
              "      <td>Latest Headlines on CNN Business the great shu...</td>\n",
              "      <td>human</td>\n",
              "    </tr>\n",
              "    <tr>\n",
              "      <th>0</th>\n",
              "      <td>latest headlines on cnn business tl;dr the u.s...</td>\n",
              "      <td>ctrl</td>\n",
              "    </tr>\n",
              "    <tr>\n",
              "      <th>0</th>\n",
              "      <td>latest headlines on cnn business. \" it's a goo...</td>\n",
              "      <td>gpt</td>\n",
              "    </tr>\n",
              "    <tr>\n",
              "      <th>0</th>\n",
              "      <td>latest headlines on cnn business - google's go...</td>\n",
              "      <td>gpt2</td>\n",
              "    </tr>\n",
              "    <tr>\n",
              "      <th>0</th>\n",
              "      <td>Latest Headlines on CNN Business cnn business ...</td>\n",
              "      <td>grover</td>\n",
              "    </tr>\n",
              "    <tr>\n",
              "      <th>0</th>\n",
              "      <td>latest headlines on cnn business, tuesday and ...</td>\n",
              "      <td>xlm</td>\n",
              "    </tr>\n",
              "    <tr>\n",
              "      <th>0</th>\n",
              "      <td>latest headlines on cnn business dedudithitt i...</td>\n",
              "      <td>xlnet</td>\n",
              "    </tr>\n",
              "    <tr>\n",
              "      <th>0</th>\n",
              "      <td>| | latest headlines on cnn business cnn busin...</td>\n",
              "      <td>pplm</td>\n",
              "    </tr>\n",
              "    <tr>\n",
              "      <th>0</th>\n",
              "      <td>latest headlines on cnn business : u.s. unempl...</td>\n",
              "      <td>fair</td>\n",
              "    </tr>\n",
              "    <tr>\n",
              "      <th>0</th>\n",
              "      <td>A new system of taxation in the United StatesT...</td>\n",
              "      <td>GPT-3</td>\n",
              "    </tr>\n",
              "    <tr>\n",
              "      <th>0</th>\n",
              "      <td>1. The Dow plummets over 600 points as second ...</td>\n",
              "      <td>InstructGPT</td>\n",
              "    </tr>\n",
              "  </tbody>\n",
              "</table>\n",
              "</div>\n",
              "      <button class=\"colab-df-convert\" onclick=\"convertToInteractive('df-99302fbc-cab8-46b2-a46f-fa0548cbc893')\"\n",
              "              title=\"Convert this dataframe to an interactive table.\"\n",
              "              style=\"display:none;\">\n",
              "        \n",
              "  <svg xmlns=\"http://www.w3.org/2000/svg\" height=\"24px\"viewBox=\"0 0 24 24\"\n",
              "       width=\"24px\">\n",
              "    <path d=\"M0 0h24v24H0V0z\" fill=\"none\"/>\n",
              "    <path d=\"M18.56 5.44l.94 2.06.94-2.06 2.06-.94-2.06-.94-.94-2.06-.94 2.06-2.06.94zm-11 1L8.5 8.5l.94-2.06 2.06-.94-2.06-.94L8.5 2.5l-.94 2.06-2.06.94zm10 10l.94 2.06.94-2.06 2.06-.94-2.06-.94-.94-2.06-.94 2.06-2.06.94z\"/><path d=\"M17.41 7.96l-1.37-1.37c-.4-.4-.92-.59-1.43-.59-.52 0-1.04.2-1.43.59L10.3 9.45l-7.72 7.72c-.78.78-.78 2.05 0 2.83L4 21.41c.39.39.9.59 1.41.59.51 0 1.02-.2 1.41-.59l7.78-7.78 2.81-2.81c.8-.78.8-2.07 0-2.86zM5.41 20L4 18.59l7.72-7.72 1.47 1.35L5.41 20z\"/>\n",
              "  </svg>\n",
              "      </button>\n",
              "      \n",
              "  <style>\n",
              "    .colab-df-container {\n",
              "      display:flex;\n",
              "      flex-wrap:wrap;\n",
              "      gap: 12px;\n",
              "    }\n",
              "\n",
              "    .colab-df-convert {\n",
              "      background-color: #E8F0FE;\n",
              "      border: none;\n",
              "      border-radius: 50%;\n",
              "      cursor: pointer;\n",
              "      display: none;\n",
              "      fill: #1967D2;\n",
              "      height: 32px;\n",
              "      padding: 0 0 0 0;\n",
              "      width: 32px;\n",
              "    }\n",
              "\n",
              "    .colab-df-convert:hover {\n",
              "      background-color: #E2EBFA;\n",
              "      box-shadow: 0px 1px 2px rgba(60, 64, 67, 0.3), 0px 1px 3px 1px rgba(60, 64, 67, 0.15);\n",
              "      fill: #174EA6;\n",
              "    }\n",
              "\n",
              "    [theme=dark] .colab-df-convert {\n",
              "      background-color: #3B4455;\n",
              "      fill: #D2E3FC;\n",
              "    }\n",
              "\n",
              "    [theme=dark] .colab-df-convert:hover {\n",
              "      background-color: #434B5C;\n",
              "      box-shadow: 0px 1px 3px 1px rgba(0, 0, 0, 0.15);\n",
              "      filter: drop-shadow(0px 1px 2px rgba(0, 0, 0, 0.3));\n",
              "      fill: #FFFFFF;\n",
              "    }\n",
              "  </style>\n",
              "\n",
              "      <script>\n",
              "        const buttonEl =\n",
              "          document.querySelector('#df-99302fbc-cab8-46b2-a46f-fa0548cbc893 button.colab-df-convert');\n",
              "        buttonEl.style.display =\n",
              "          google.colab.kernel.accessAllowed ? 'block' : 'none';\n",
              "\n",
              "        async function convertToInteractive(key) {\n",
              "          const element = document.querySelector('#df-99302fbc-cab8-46b2-a46f-fa0548cbc893');\n",
              "          const dataTable =\n",
              "            await google.colab.kernel.invokeFunction('convertToInteractive',\n",
              "                                                     [key], {});\n",
              "          if (!dataTable) return;\n",
              "\n",
              "          const docLinkHtml = 'Like what you see? Visit the ' +\n",
              "            '<a target=\"_blank\" href=https://colab.research.google.com/notebooks/data_table.ipynb>data table notebook</a>'\n",
              "            + ' to learn more about interactive tables.';\n",
              "          element.innerHTML = '';\n",
              "          dataTable['output_type'] = 'display_data';\n",
              "          await google.colab.output.renderOutput(dataTable, element);\n",
              "          const docLink = document.createElement('div');\n",
              "          docLink.innerHTML = docLinkHtml;\n",
              "          element.appendChild(docLink);\n",
              "        }\n",
              "      </script>\n",
              "    </div>\n",
              "  </div>\n",
              "  "
            ]
          },
          "metadata": {},
          "execution_count": 4
        }
      ]
    },
    {
      "cell_type": "code",
      "source": [],
      "metadata": {
        "id": "ZdCBRkOyNKsx"
      },
      "id": "ZdCBRkOyNKsx",
      "execution_count": null,
      "outputs": []
    },
    {
      "cell_type": "markdown",
      "source": [
        "# New Section"
      ],
      "metadata": {
        "id": "LHP7ck0OG7yW"
      },
      "id": "LHP7ck0OG7yW"
    },
    {
      "cell_type": "markdown",
      "source": [
        "# New Section"
      ],
      "metadata": {
        "id": "ZMJKMJ95G8Qm"
      },
      "id": "ZMJKMJ95G8Qm"
    },
    {
      "cell_type": "code",
      "source": [
        "result = pd.DataFrame(columns=['T1', 'T2', 'Same_OR_Not'])\n",
        "list_df = [df_ctrl, df_gpt, df_gpt2, df_grover,df_xlm, df_xlnet, df_pplm, df_fair, df_gpt3, df_instructgpt,df_human]\n",
        "for df1 in list_df:\n",
        "  for df2 in list_df:\n",
        "    new_df1 = df1.rename(columns={'Generation': 'T1'})\n",
        "    new_df1 = new_df1[['T1']]\n",
        "    new_df2 = df2.rename(columns={'Generation': 'T2'})\n",
        "    new_df2 = new_df2[['T2']]\n",
        "    cross_product = pd.merge(new_df1.assign(key=0), new_df2.assign(key=0), on='key').drop('key', axis=1)\n",
        "    if(df1.loc[0, 'label'] == df2.loc[0, 'label']) :\n",
        "      cross_product = cross_product.assign(Same_OR_Not= 1)\n",
        "      sampled_cross_product = cross_product.sample(n=550)\n",
        "    else:\n",
        "      cross_product = cross_product.assign(Same_OR_Not= 0)\n",
        "      sampled_cross_product = cross_product.sample(n=55)\n",
        "\n",
        "    \n",
        "    result = pd.concat([result,sampled_cross_product])\n"
      ],
      "metadata": {
        "id": "ttBW-1sUNMjI"
      },
      "id": "ttBW-1sUNMjI",
      "execution_count": null,
      "outputs": []
    },
    {
      "cell_type": "code",
      "source": [
        "result = result.sample(frac = 1)\n",
        "print(result.head(10))"
      ],
      "metadata": {
        "colab": {
          "base_uri": "https://localhost:8080/"
        },
        "id": "kUkFen_vJzY7",
        "outputId": "e11c3f9e-f58d-4443-ce01-cc02c8cf38fd"
      },
      "id": "kUkFen_vJzY7",
      "execution_count": null,
      "outputs": [
        {
          "output_type": "stream",
          "name": "stdout",
          "text": [
            "                                                        T1  \\\n",
            "712113   nato secretary general: why we're in afghanist...   \n",
            "978595   with coronavirus, it's time to declare a natio...   \n",
            "912321   coronavirus live updates: trump to declare nat...   \n",
            "344716   how nasa's apollo program kicked off silicon v...   \n",
            "676458   This 5-year-old paid off the lunch balances fo...   \n",
            "298756   meet north korea's art dealer to the west art ...   \n",
            "673579   tourists being kept under coronavirus quaranti...   \n",
            "1007086  science & environment the male love with it an...   \n",
            "866510   top cnn op-eds of 2015 (so far),;–—: a large n...   \n",
            "226237   | | city of tomorrow city of tomorrow was a sc...   \n",
            "\n",
            "                                                        T2 Same_OR_Not  \n",
            "712113   why the impact of coronavirus could be particu...           1  \n",
            "978595   a history of wuhan, one-time chinese capital a...           1  \n",
            "912321   opinion | we need to flatten the curve. trump ...           1  \n",
            "344716   transcripts. \" what's going on? \" i asked, fee...           0  \n",
            "676458   hoshinoya tokyo: japan's most luxurious urban ...           0  \n",
            "298756   the designers changing the conversation around...           1  \n",
            "673579   us politics there he and her husband are the p...           1  \n",
            "1007086  the real terror threat in america is homegrown...           1  \n",
            "866510   The coronavirus outbreak has created an unprec...           0  \n",
            "226237   | | why women feel pressured to shave their he...           1  \n"
          ]
        }
      ]
    },
    {
      "cell_type": "code",
      "execution_count": null,
      "id": "901fd742",
      "metadata": {
        "id": "901fd742"
      },
      "outputs": [],
      "source": [
        "import numpy as np\n",
        "result = result. replace(np. nan,'',regex=True)"
      ]
    },
    {
      "cell_type": "code",
      "execution_count": null,
      "id": "23945b06",
      "metadata": {
        "colab": {
          "base_uri": "https://localhost:8080/"
        },
        "id": "23945b06",
        "outputId": "f3d7acb2-5e5f-4ea0-8097-799e3d9832d9"
      },
      "outputs": [
        {
          "output_type": "stream",
          "name": "stdout",
          "text": [
            "0\n",
            "0\n",
            "712113    nato secretary general: why we're in afghanist...\n",
            "978595    with coronavirus, it's time to declare a natio...\n",
            "912321    coronavirus live updates: trump to declare nat...\n",
            "344716    how nasa's apollo program kicked off silicon v...\n",
            "676458    This 5-year-old paid off the lunch balances fo...\n",
            "                                ...                        \n",
            "95736     why india's citizenship law crosses the line f...\n",
            "976935    | | opinion | how to fix the coronavirus testi...\n",
            "717147    trump's speech won't erase his bumbling respon...\n",
            "836626    'we need a restroom revolution' the, and all o...\n",
            "212489    help famine victims in africa, yemen and the m...\n",
            "Name: T1, Length: 12100, dtype: object\n"
          ]
        }
      ],
      "source": [
        "num_nan1 = result['T1'].isna().sum()\n",
        "print(num_nan1)\n",
        "num_nan2 = result['T2'].isna().sum()\n",
        "print(num_nan2)\n",
        "print(result['T1'])"
      ]
    },
    {
      "cell_type": "code",
      "execution_count": null,
      "id": "606ed94f",
      "metadata": {
        "colab": {
          "base_uri": "https://localhost:8080/"
        },
        "id": "606ed94f",
        "outputId": "6500056a-a101-4d12-eee2-b8c5bd58f196"
      },
      "outputs": [
        {
          "output_type": "stream",
          "name": "stderr",
          "text": [
            "[nltk_data] Downloading package punkt to /root/nltk_data...\n",
            "[nltk_data]   Unzipping tokenizers/punkt.zip.\n"
          ]
        },
        {
          "output_type": "stream",
          "name": "stdout",
          "text": [
            "1    1210\n",
            "0    1210\n",
            "Name: Same_OR_Not, dtype: int64\n"
          ]
        }
      ],
      "source": [
        "import nltk\n",
        "import pandas as pd\n",
        "from sklearn.feature_extraction.text import TfidfVectorizer\n",
        "from sklearn.model_selection import train_test_split\n",
        "\n",
        "nltk.download('punkt')\n",
        "\n",
        "# Tokenize the text data\n",
        "result['tokenized_data1'] = result['T1'].apply(nltk.word_tokenize)\n",
        "result['tokenized_data2'] = result['T2'].apply(nltk.word_tokenize)\n",
        "\n",
        "# Convert the tokenized data to a bag-of-words representation using TF-IDF\n",
        "vectorizer = TfidfVectorizer()\n",
        "X = pd.DataFrame(index=result.index)\n",
        "X = result.apply(lambda x: ' '.join(x['tokenized_data1']) + ' ' + ' '.join(x['tokenized_data2']), axis=1)\n",
        "\n",
        "X = vectorizer.fit_transform(X)\n",
        "\n",
        "# Convert the target variable to a numerical format\n",
        "result['Same_OR_Not'] = result['Same_OR_Not'].astype(int)\n",
        "\n",
        "# Split the data into training and testing sets with stratification\n",
        "X_train, X_test, y_train, y_test = train_test_split(X, result['Same_OR_Not'], test_size=0.2, random_state=42, stratify=result['Same_OR_Not'])\n",
        "\n",
        "# Check that the classes are balanced in the testing set\n",
        "print(y_test.value_counts())\n"
      ]
    },
    {
      "cell_type": "code",
      "execution_count": null,
      "id": "b9a43e39",
      "metadata": {
        "id": "b9a43e39",
        "outputId": "026f3c40-7c8e-4470-9e47-c1410ef9143d",
        "colab": {
          "base_uri": "https://localhost:8080/"
        }
      },
      "outputs": [
        {
          "output_type": "stream",
          "name": "stdout",
          "text": [
            "  (0, 65208)\t0.018456454906912906\n",
            "  (0, 15501)\t0.046693430770826765\n",
            "  (0, 59244)\t0.052285214227151565\n",
            "  (0, 19434)\t0.04282982672604947\n",
            "  (0, 70134)\t0.04547461106068999\n",
            "  (0, 26226)\t0.04703009486729524\n",
            "  (0, 58503)\t0.0480433732469269\n",
            "  (0, 15727)\t0.04017592437677007\n",
            "  (0, 49669)\t0.04693717054229882\n",
            "  (0, 65663)\t0.03131257736770313\n",
            "  (0, 70064)\t0.017442836055110565\n",
            "  (0, 40116)\t0.017225784664081287\n",
            "  (0, 61159)\t0.04373475866807176\n",
            "  (0, 49227)\t0.0337327519855769\n",
            "  (0, 39653)\t0.039862828724787\n",
            "  (0, 58178)\t0.052028119578743065\n",
            "  (0, 15677)\t0.047410491115315825\n",
            "  (0, 23002)\t0.038149556908966674\n",
            "  (0, 65345)\t0.026666869445679645\n",
            "  (0, 65776)\t0.04327226643478787\n",
            "  (0, 61144)\t0.026461609182481978\n",
            "  (0, 62565)\t0.04303812207525978\n",
            "  (0, 47014)\t0.021294616672437757\n",
            "  (0, 14661)\t0.04224875241054517\n",
            "  (0, 63303)\t0.027041803838987834\n",
            "  :\t:\n",
            "  (12099, 64153)\t0.06325021724033977\n",
            "  (12099, 64919)\t0.011897262305690996\n",
            "  (12099, 35076)\t0.07384565507332848\n",
            "  (12099, 64567)\t0.015700011821201492\n",
            "  (12099, 64305)\t0.02656488338790713\n",
            "  (12099, 47267)\t0.020832101089118232\n",
            "  (12099, 60091)\t0.044739812566390334\n",
            "  (12099, 56276)\t0.023563443020263832\n",
            "  (12099, 58224)\t0.2001555485080474\n",
            "  (12099, 32879)\t0.022862460744711526\n",
            "  (12099, 8333)\t0.038437906113622355\n",
            "  (12099, 47006)\t0.036864796689727725\n",
            "  (12099, 25025)\t0.024592226530182438\n",
            "  (12099, 31636)\t0.0510773313909627\n",
            "  (12099, 30843)\t0.10443787067489071\n",
            "  (12099, 64180)\t0.15665297292710934\n",
            "  (12099, 65157)\t0.17460630589249623\n",
            "  (12099, 21433)\t0.02335158263030209\n",
            "  (12099, 17747)\t0.027179684587465166\n",
            "  (12099, 70503)\t0.034093662996762863\n",
            "  (12099, 7190)\t0.11355977078374485\n",
            "  (12099, 33339)\t0.03514708838531646\n",
            "  (12099, 53165)\t0.02943433302527246\n",
            "  (12099, 70108)\t0.05587113610911985\n",
            "  (12099, 70890)\t0.02799858033789042\n"
          ]
        }
      ],
      "source": [
        "print(X)\n"
      ]
    },
    {
      "cell_type": "code",
      "source": [
        "X\n",
        "result.head(5)"
      ],
      "metadata": {
        "colab": {
          "base_uri": "https://localhost:8080/",
          "height": 337
        },
        "id": "33mZIA02W2kk",
        "outputId": "1e9fc4e5-aed6-4faa-cdb2-4eb99ef21aaf"
      },
      "id": "33mZIA02W2kk",
      "execution_count": null,
      "outputs": [
        {
          "output_type": "execute_result",
          "data": {
            "text/plain": [
              "                                                       T1  \\\n",
              "712113  nato secretary general: why we're in afghanist...   \n",
              "978595  with coronavirus, it's time to declare a natio...   \n",
              "912321  coronavirus live updates: trump to declare nat...   \n",
              "344716  how nasa's apollo program kicked off silicon v...   \n",
              "676458  This 5-year-old paid off the lunch balances fo...   \n",
              "\n",
              "                                                       T2  Same_OR_Not  \\\n",
              "712113  why the impact of coronavirus could be particu...            1   \n",
              "978595  a history of wuhan, one-time chinese capital a...            1   \n",
              "912321  opinion | we need to flatten the curve. trump ...            1   \n",
              "344716  transcripts. \" what's going on? \" i asked, fee...            0   \n",
              "676458  hoshinoya tokyo: japan's most luxurious urban ...            0   \n",
              "\n",
              "                                          tokenized_data1  \\\n",
              "712113  [nato, secretary, general, :, why, we, 're, in...   \n",
              "978595  [with, coronavirus, ,, it, 's, time, to, decla...   \n",
              "912321  [coronavirus, live, updates, :, trump, to, dec...   \n",
              "344716  [how, nasa, 's, apollo, program, kicked, off, ...   \n",
              "676458  [This, 5-year-old, paid, off, the, lunch, bala...   \n",
              "\n",
              "                                          tokenized_data2  \n",
              "712113  [why, the, impact, of, coronavirus, could, be,...  \n",
              "978595  [a, history, of, wuhan, ,, one-time, chinese, ...  \n",
              "912321  [opinion, |, we, need, to, flatten, the, curve...  \n",
              "344716  [transcripts., ``, what, 's, going, on, ?, ``,...  \n",
              "676458  [hoshinoya, tokyo, :, japan, 's, most, luxurio...  "
            ],
            "text/html": [
              "\n",
              "  <div id=\"df-1eaccdbd-b2ef-4744-89db-089b9b05639f\">\n",
              "    <div class=\"colab-df-container\">\n",
              "      <div>\n",
              "<style scoped>\n",
              "    .dataframe tbody tr th:only-of-type {\n",
              "        vertical-align: middle;\n",
              "    }\n",
              "\n",
              "    .dataframe tbody tr th {\n",
              "        vertical-align: top;\n",
              "    }\n",
              "\n",
              "    .dataframe thead th {\n",
              "        text-align: right;\n",
              "    }\n",
              "</style>\n",
              "<table border=\"1\" class=\"dataframe\">\n",
              "  <thead>\n",
              "    <tr style=\"text-align: right;\">\n",
              "      <th></th>\n",
              "      <th>T1</th>\n",
              "      <th>T2</th>\n",
              "      <th>Same_OR_Not</th>\n",
              "      <th>tokenized_data1</th>\n",
              "      <th>tokenized_data2</th>\n",
              "    </tr>\n",
              "  </thead>\n",
              "  <tbody>\n",
              "    <tr>\n",
              "      <th>712113</th>\n",
              "      <td>nato secretary general: why we're in afghanist...</td>\n",
              "      <td>why the impact of coronavirus could be particu...</td>\n",
              "      <td>1</td>\n",
              "      <td>[nato, secretary, general, :, why, we, 're, in...</td>\n",
              "      <td>[why, the, impact, of, coronavirus, could, be,...</td>\n",
              "    </tr>\n",
              "    <tr>\n",
              "      <th>978595</th>\n",
              "      <td>with coronavirus, it's time to declare a natio...</td>\n",
              "      <td>a history of wuhan, one-time chinese capital a...</td>\n",
              "      <td>1</td>\n",
              "      <td>[with, coronavirus, ,, it, 's, time, to, decla...</td>\n",
              "      <td>[a, history, of, wuhan, ,, one-time, chinese, ...</td>\n",
              "    </tr>\n",
              "    <tr>\n",
              "      <th>912321</th>\n",
              "      <td>coronavirus live updates: trump to declare nat...</td>\n",
              "      <td>opinion | we need to flatten the curve. trump ...</td>\n",
              "      <td>1</td>\n",
              "      <td>[coronavirus, live, updates, :, trump, to, dec...</td>\n",
              "      <td>[opinion, |, we, need, to, flatten, the, curve...</td>\n",
              "    </tr>\n",
              "    <tr>\n",
              "      <th>344716</th>\n",
              "      <td>how nasa's apollo program kicked off silicon v...</td>\n",
              "      <td>transcripts. \" what's going on? \" i asked, fee...</td>\n",
              "      <td>0</td>\n",
              "      <td>[how, nasa, 's, apollo, program, kicked, off, ...</td>\n",
              "      <td>[transcripts., ``, what, 's, going, on, ?, ``,...</td>\n",
              "    </tr>\n",
              "    <tr>\n",
              "      <th>676458</th>\n",
              "      <td>This 5-year-old paid off the lunch balances fo...</td>\n",
              "      <td>hoshinoya tokyo: japan's most luxurious urban ...</td>\n",
              "      <td>0</td>\n",
              "      <td>[This, 5-year-old, paid, off, the, lunch, bala...</td>\n",
              "      <td>[hoshinoya, tokyo, :, japan, 's, most, luxurio...</td>\n",
              "    </tr>\n",
              "  </tbody>\n",
              "</table>\n",
              "</div>\n",
              "      <button class=\"colab-df-convert\" onclick=\"convertToInteractive('df-1eaccdbd-b2ef-4744-89db-089b9b05639f')\"\n",
              "              title=\"Convert this dataframe to an interactive table.\"\n",
              "              style=\"display:none;\">\n",
              "        \n",
              "  <svg xmlns=\"http://www.w3.org/2000/svg\" height=\"24px\"viewBox=\"0 0 24 24\"\n",
              "       width=\"24px\">\n",
              "    <path d=\"M0 0h24v24H0V0z\" fill=\"none\"/>\n",
              "    <path d=\"M18.56 5.44l.94 2.06.94-2.06 2.06-.94-2.06-.94-.94-2.06-.94 2.06-2.06.94zm-11 1L8.5 8.5l.94-2.06 2.06-.94-2.06-.94L8.5 2.5l-.94 2.06-2.06.94zm10 10l.94 2.06.94-2.06 2.06-.94-2.06-.94-.94-2.06-.94 2.06-2.06.94z\"/><path d=\"M17.41 7.96l-1.37-1.37c-.4-.4-.92-.59-1.43-.59-.52 0-1.04.2-1.43.59L10.3 9.45l-7.72 7.72c-.78.78-.78 2.05 0 2.83L4 21.41c.39.39.9.59 1.41.59.51 0 1.02-.2 1.41-.59l7.78-7.78 2.81-2.81c.8-.78.8-2.07 0-2.86zM5.41 20L4 18.59l7.72-7.72 1.47 1.35L5.41 20z\"/>\n",
              "  </svg>\n",
              "      </button>\n",
              "      \n",
              "  <style>\n",
              "    .colab-df-container {\n",
              "      display:flex;\n",
              "      flex-wrap:wrap;\n",
              "      gap: 12px;\n",
              "    }\n",
              "\n",
              "    .colab-df-convert {\n",
              "      background-color: #E8F0FE;\n",
              "      border: none;\n",
              "      border-radius: 50%;\n",
              "      cursor: pointer;\n",
              "      display: none;\n",
              "      fill: #1967D2;\n",
              "      height: 32px;\n",
              "      padding: 0 0 0 0;\n",
              "      width: 32px;\n",
              "    }\n",
              "\n",
              "    .colab-df-convert:hover {\n",
              "      background-color: #E2EBFA;\n",
              "      box-shadow: 0px 1px 2px rgba(60, 64, 67, 0.3), 0px 1px 3px 1px rgba(60, 64, 67, 0.15);\n",
              "      fill: #174EA6;\n",
              "    }\n",
              "\n",
              "    [theme=dark] .colab-df-convert {\n",
              "      background-color: #3B4455;\n",
              "      fill: #D2E3FC;\n",
              "    }\n",
              "\n",
              "    [theme=dark] .colab-df-convert:hover {\n",
              "      background-color: #434B5C;\n",
              "      box-shadow: 0px 1px 3px 1px rgba(0, 0, 0, 0.15);\n",
              "      filter: drop-shadow(0px 1px 2px rgba(0, 0, 0, 0.3));\n",
              "      fill: #FFFFFF;\n",
              "    }\n",
              "  </style>\n",
              "\n",
              "      <script>\n",
              "        const buttonEl =\n",
              "          document.querySelector('#df-1eaccdbd-b2ef-4744-89db-089b9b05639f button.colab-df-convert');\n",
              "        buttonEl.style.display =\n",
              "          google.colab.kernel.accessAllowed ? 'block' : 'none';\n",
              "\n",
              "        async function convertToInteractive(key) {\n",
              "          const element = document.querySelector('#df-1eaccdbd-b2ef-4744-89db-089b9b05639f');\n",
              "          const dataTable =\n",
              "            await google.colab.kernel.invokeFunction('convertToInteractive',\n",
              "                                                     [key], {});\n",
              "          if (!dataTable) return;\n",
              "\n",
              "          const docLinkHtml = 'Like what you see? Visit the ' +\n",
              "            '<a target=\"_blank\" href=https://colab.research.google.com/notebooks/data_table.ipynb>data table notebook</a>'\n",
              "            + ' to learn more about interactive tables.';\n",
              "          element.innerHTML = '';\n",
              "          dataTable['output_type'] = 'display_data';\n",
              "          await google.colab.output.renderOutput(dataTable, element);\n",
              "          const docLink = document.createElement('div');\n",
              "          docLink.innerHTML = docLinkHtml;\n",
              "          element.appendChild(docLink);\n",
              "        }\n",
              "      </script>\n",
              "    </div>\n",
              "  </div>\n",
              "  "
            ]
          },
          "metadata": {},
          "execution_count": 11
        }
      ]
    },
    {
      "cell_type": "code",
      "execution_count": null,
      "id": "0c7169a9",
      "metadata": {
        "id": "0c7169a9",
        "colab": {
          "base_uri": "https://localhost:8080/"
        },
        "outputId": "241dcaed-2101-41ba-9aed-48bb5d9d41ef"
      },
      "outputs": [
        {
          "output_type": "stream",
          "name": "stdout",
          "text": [
            "Looking in indexes: https://pypi.org/simple, https://us-python.pkg.dev/colab-wheels/public/simple/\n",
            "Requirement already satisfied: torch in /usr/local/lib/python3.9/dist-packages (1.13.1+cu116)\n",
            "Requirement already satisfied: typing-extensions in /usr/local/lib/python3.9/dist-packages (from torch) (4.5.0)\n"
          ]
        }
      ],
      "source": [
        "pip install torch\n"
      ]
    },
    {
      "cell_type": "code",
      "execution_count": null,
      "id": "29b52028",
      "metadata": {
        "id": "29b52028",
        "colab": {
          "base_uri": "https://localhost:8080/"
        },
        "outputId": "998348f1-7062-4fe7-b599-fa5ef8372273"
      },
      "outputs": [
        {
          "output_type": "stream",
          "name": "stdout",
          "text": [
            "[1 0 0 ... 1 0 0]\n"
          ]
        }
      ],
      "source": [
        "# Create an SVM model and fit the model to the training data\n",
        "from sklearn.model_selection import train_test_split\n",
        "from sklearn.feature_extraction.text import TfidfVectorizer\n",
        "from sklearn.svm import SVC\n",
        "from sklearn.metrics import accuracy_score, precision_score, recall_score, f1_score\n",
        "svm_model = SVC(kernel='linear', C=1, random_state=42)\n",
        "svm_model.fit(X_train, y_train)\n",
        "\n",
        "# Predict the labels for the testing data\n",
        "y_pred = svm_model.predict(X_test)\n",
        "# print(X_test)\n",
        "print(y_pred)\n",
        "\n",
        "# Evaluate the model's performance using metrics such as accuracy, precision, recall, and F1-score\n",
        "accuracy = accuracy_score(y_test, y_pred)\n",
        "precision = precision_score(y_test, y_pred, average='weighted')\n",
        "recall = recall_score(y_test, y_pred, average='weighted')\n",
        "f1 = f1_score(y_test, y_pred, average='weighted')\n",
        "\n"
      ]
    },
    {
      "cell_type": "code",
      "source": [
        "f1_scores = f1_score(y_test, y_pred, average=None)\n",
        "macro_f1_score = np.mean(f1_scores)\n",
        "print(f\"Per-class F1 scores: {f1_scores}\")\n",
        "print(f\"Macro F1 score: {macro_f1_score}\")\n",
        "\n",
        "print(f\"Accuracy: {accuracy:.2f}\")\n",
        "print(f\"Precision: {precision:.2f}\")\n",
        "print(f\"Recall: {recall:.2f}\")\n",
        "print(f\"F1-score: {f1:.2f}\")"
      ],
      "metadata": {
        "id": "-K6g64dPuUDq",
        "colab": {
          "base_uri": "https://localhost:8080/"
        },
        "outputId": "b7e7d016-5458-4a24-be49-86651274bad3"
      },
      "id": "-K6g64dPuUDq",
      "execution_count": null,
      "outputs": [
        {
          "output_type": "stream",
          "name": "stdout",
          "text": [
            "Per-class F1 scores: [0.51105651 0.50208507]\n",
            "Macro F1 score: 0.5065707909744606\n",
            "Accuracy: 0.51\n",
            "Precision: 0.51\n",
            "Recall: 0.51\n",
            "F1-score: 0.51\n"
          ]
        }
      ]
    },
    {
      "cell_type": "code",
      "execution_count": null,
      "id": "0fd16bca",
      "metadata": {
        "id": "0fd16bca",
        "colab": {
          "base_uri": "https://localhost:8080/"
        },
        "outputId": "afe0fc3f-cef6-4bdf-908f-450c8c743d8c"
      },
      "outputs": [
        {
          "output_type": "stream",
          "name": "stdout",
          "text": [
            "Per-class F1 scores: [0.74745763 0.75967742]\n",
            "Macro F1 score: 0.7535675232367414\n",
            "Accuracy: 0.75\n",
            "Precision: 0.75\n",
            "Recall: 0.75\n",
            "F1-score: 0.75\n"
          ]
        }
      ],
      "source": [
        "from sklearn.model_selection import train_test_split\n",
        "from sklearn.feature_extraction.text import TfidfVectorizer\n",
        "from sklearn.ensemble import RandomForestClassifier\n",
        "from sklearn.metrics import accuracy_score, precision_score, recall_score, f1_score\n",
        "\n",
        "# Create a Random Forest model and fit the model to the training data\n",
        "rf_model = RandomForestClassifier(n_estimators=100, random_state=42)\n",
        "rf_model.fit(X_train, y_train)\n",
        "\n",
        "# Predict the labels for the testing data\n",
        "y_pred = rf_model.predict(X_test)\n",
        "\n",
        "# Evaluate the model's performance using metrics such as accuracy, precision, recall, and F1-score\n",
        "accuracy = accuracy_score(y_test, y_pred)\n",
        "precision = precision_score(y_test, y_pred, average='weighted')\n",
        "recall = recall_score(y_test, y_pred, average='weighted')\n",
        "f1 = f1_score(y_test, y_pred, average='weighted')\n",
        "\n",
        "f1_scores = f1_score(y_test, y_pred, average=None)\n",
        "macro_f1_score = np.mean(f1_scores)\n",
        "print(f\"Per-class F1 scores: {f1_scores}\")\n",
        "print(f\"Macro F1 score: {macro_f1_score}\")\n",
        "\n",
        "print(f\"Accuracy: {accuracy:.2f}\")\n",
        "print(f\"Precision: {precision:.2f}\")\n",
        "print(f\"Recall: {recall:.2f}\")\n",
        "print(f\"F1-score: {f1:.2f}\")"
      ]
    },
    {
      "cell_type": "code",
      "execution_count": null,
      "id": "68717830",
      "metadata": {
        "id": "68717830",
        "colab": {
          "base_uri": "https://localhost:8080/"
        },
        "outputId": "4eee30b4-a28e-4e65-e705-0ca516e004bc"
      },
      "outputs": [
        {
          "output_type": "stream",
          "name": "stderr",
          "text": [
            "[nltk_data] Downloading package punkt to /root/nltk_data...\n",
            "[nltk_data]   Package punkt is already up-to-date!\n",
            "[nltk_data] Downloading package stopwords to /root/nltk_data...\n",
            "[nltk_data]   Unzipping corpora/stopwords.zip.\n"
          ]
        }
      ],
      "source": [
        "import string\n",
        "import nltk\n",
        "from nltk.tokenize import word_tokenize\n",
        "from nltk.corpus import stopwords\n",
        "\n",
        "nltk.download(\"punkt\")\n",
        "nltk.download(\"stopwords\")\n",
        "\n",
        "def preprocess(text):\n",
        "    # Remove punctuation\n",
        "    text = text.translate(str.maketrans(\"\", \"\", string.punctuation))\n",
        "\n",
        "    # Lowercase the text\n",
        "    text = text.lower()\n",
        "\n",
        "    # Tokenize the text into individual words\n",
        "    words = word_tokenize(text)\n",
        "\n",
        "    # Remove stop words\n",
        "    words = [word for word in words if word not in stopwords.words(\"english\")]\n",
        "\n",
        "    # Join the words back into a string\n",
        "    preprocessed_text = \" \".join(words)\n",
        "\n",
        "    return preprocessed_text\n"
      ]
    },
    {
      "cell_type": "code",
      "execution_count": null,
      "id": "20dd7b4c",
      "metadata": {
        "id": "20dd7b4c",
        "colab": {
          "base_uri": "https://localhost:8080/"
        },
        "outputId": "ca8bb0d7-7897-48b8-ddf9-cd6895262c80"
      },
      "outputs": [
        {
          "output_type": "stream",
          "name": "stdout",
          "text": [
            "1\n"
          ]
        }
      ],
      "source": [
        "# Preprocess the input text\n",
        "input_text = \"This is a test sentence.\"\n",
        "preprocessed_text = preprocess(input_text)\n",
        "\n",
        "# Convert the preprocessed text into a feature vector\n",
        "vectorized_text = vectorizer.transform([preprocessed_text])\n",
        "\n",
        "# Use the trained Random Forest model to predict the label\n",
        "predicted_label = rf_model.predict(vectorized_text)[0]\n",
        "\n",
        "print(predicted_label)\n"
      ]
    },
    {
      "cell_type": "code",
      "execution_count": null,
      "id": "5c2f4a0c",
      "metadata": {
        "id": "5c2f4a0c"
      },
      "outputs": [],
      "source": []
    },
    {
      "cell_type": "code",
      "execution_count": null,
      "id": "9127799d",
      "metadata": {
        "id": "9127799d",
        "colab": {
          "base_uri": "https://localhost:8080/"
        },
        "outputId": "cb115558-62ba-406d-d68d-ad038e28ec92"
      },
      "outputs": [
        {
          "output_type": "stream",
          "name": "stdout",
          "text": [
            "Per-class F1 scores: [0.491419   0.50428397]\n",
            "Macro F1 score: 0.4978514847477704\n",
            "Accuracy: 0.50\n",
            "Precision: 0.50\n",
            "Recall: 0.50\n",
            "F1-score: 0.50\n"
          ]
        }
      ],
      "source": [
        "from sklearn.model_selection import train_test_split\n",
        "from sklearn.feature_extraction.text import TfidfVectorizer\n",
        "from sklearn.linear_model import LogisticRegression\n",
        "from sklearn.metrics import accuracy_score, precision_score, recall_score, f1_score\n",
        "\n",
        "# Create a logistic regression model and fit the model to the training data\n",
        "lr_model = LogisticRegression(random_state=42)\n",
        "lr_model.fit(X_train, y_train)\n",
        "\n",
        "# Predict the labels for the testing data\n",
        "y_pred = lr_model.predict(X_test)\n",
        "\n",
        "# Evaluate the model's performance using metrics such as accuracy, precision, recall, and F1-score\n",
        "accuracy = accuracy_score(y_test, y_pred)\n",
        "precision = precision_score(y_test, y_pred, average='weighted')\n",
        "recall = recall_score(y_test, y_pred, average='weighted')\n",
        "f1 = f1_score(y_test, y_pred, average='weighted')\n",
        "\n",
        "f1_scores = f1_score(y_test, y_pred, average=None)\n",
        "macro_f1_score = np.mean(f1_scores)\n",
        "print(f\"Per-class F1 scores: {f1_scores}\")\n",
        "print(f\"Macro F1 score: {macro_f1_score}\")\n",
        "\n",
        "print(f\"Accuracy: {accuracy:.2f}\")\n",
        "print(f\"Precision: {precision:.2f}\")\n",
        "print(f\"Recall: {recall:.2f}\")\n",
        "print(f\"F1-score: {f1:.2f}\")\n"
      ]
    },
    {
      "cell_type": "code",
      "execution_count": null,
      "id": "2c9408fa",
      "metadata": {
        "id": "2c9408fa",
        "colab": {
          "base_uri": "https://localhost:8080/"
        },
        "outputId": "abd95f4c-ab7e-420b-bde8-74aed3b213f9"
      },
      "outputs": [
        {
          "output_type": "stream",
          "name": "stdout",
          "text": [
            "Per-class F1 scores: [0.48730964 0.51050081]\n",
            "Macro F1 score: 0.4989052262122467\n",
            "Accuracy: 0.50\n",
            "Precision: 0.50\n",
            "Recall: 0.50\n",
            "F1-score: 0.50\n"
          ]
        }
      ],
      "source": [
        "from sklearn.naive_bayes import MultinomialNB\n",
        "\n",
        "# Create a Multinomial Naive Bayes model and fit the model to the training data\n",
        "nb_model = MultinomialNB()\n",
        "nb_model.fit(X_train, y_train)\n",
        "\n",
        "# Predict the labels for the testing data\n",
        "y_pred = nb_model.predict(X_test)\n",
        "\n",
        "# Evaluate the model's performance using metrics such as accuracy, precision, recall, and F1-score\n",
        "accuracy = accuracy_score(y_test, y_pred)\n",
        "precision = precision_score(y_test, y_pred, average='weighted')\n",
        "recall = recall_score(y_test, y_pred, average='weighted')\n",
        "f1 = f1_score(y_test, y_pred, average='weighted')\n",
        "\n",
        "f1_scores = f1_score(y_test, y_pred, average=None)\n",
        "macro_f1_score = np.mean(f1_scores)\n",
        "print(f\"Per-class F1 scores: {f1_scores}\")\n",
        "print(f\"Macro F1 score: {macro_f1_score}\")\n",
        "\n",
        "print(f\"Accuracy: {accuracy:.2f}\")\n",
        "print(f\"Precision: {precision:.2f}\")\n",
        "print(f\"Recall: {recall:.2f}\")\n",
        "print(f\"F1-score: {f1:.2f}\")\n"
      ]
    },
    {
      "cell_type": "code",
      "execution_count": null,
      "id": "e9d4c4f3",
      "metadata": {
        "id": "e9d4c4f3",
        "colab": {
          "base_uri": "https://localhost:8080/"
        },
        "outputId": "af6fe313-65ce-48ba-c690-21f5410fadb9"
      },
      "outputs": [
        {
          "output_type": "stream",
          "name": "stdout",
          "text": [
            "0: 0.511056511056511\n",
            "1: 0.5020850708924103\n"
          ]
        }
      ],
      "source": [
        "from sklearn.preprocessing import LabelEncoder\n",
        "from sklearn.metrics import f1_score\n",
        "\n",
        "# encode the labels\n",
        "label_encoder = LabelEncoder()\n",
        "y_train_encoded = label_encoder.fit_transform(y_train)\n",
        "y_test_encoded = label_encoder.transform(y_test)\n",
        "from sklearn.svm import SVC\n",
        "from sklearn.metrics import accuracy_score, precision_score, recall_score, f1_score\n",
        "model = SVC(kernel='linear', C=1, random_state=42)\n",
        "\n",
        "# fit the model\n",
        "model.fit(X_train, y_train_encoded)\n",
        "\n",
        "# predict the labels\n",
        "y_pred_encoded = model.predict(X_test)\n",
        "\n",
        "# decode the predicted labels\n",
        "y_pred = label_encoder.inverse_transform(y_pred_encoded)\n",
        "\n",
        "# calculate the f1 score for each class\n",
        "f1_scores = f1_score(y_test, y_pred, average=None)\n",
        "\n",
        "# print the class names and their corresponding f1 scores\n",
        "class_names = label_encoder.classes_\n",
        "for i, class_name in enumerate(class_names):\n",
        "    print(f\"{class_name}: {f1_scores[i]}\")\n",
        "\n"
      ]
    }
  ],
  "metadata": {
    "kernelspec": {
      "display_name": "Python 3 (ipykernel)",
      "language": "python",
      "name": "python3"
    },
    "language_info": {
      "codemirror_mode": {
        "name": "ipython",
        "version": 3
      },
      "file_extension": ".py",
      "mimetype": "text/x-python",
      "name": "python",
      "nbconvert_exporter": "python",
      "pygments_lexer": "ipython3",
      "version": "3.9.12"
    },
    "colab": {
      "provenance": [],
      "include_colab_link": true
    }
  },
  "nbformat": 4,
  "nbformat_minor": 5
}