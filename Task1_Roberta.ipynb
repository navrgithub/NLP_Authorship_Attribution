{
  "cells": [
    {
      "cell_type": "markdown",
      "metadata": {
        "id": "view-in-github",
        "colab_type": "text"
      },
      "source": [
        "<a href=\"https://colab.research.google.com/github/navrgithub/NLP_Authorship_Attribution/blob/main/Task1_Roberta.ipynb\" target=\"_parent\"><img src=\"https://colab.research.google.com/assets/colab-badge.svg\" alt=\"Open In Colab\"/></a>"
      ]
    },
    {
      "cell_type": "code",
      "execution_count": null,
      "metadata": {
        "colab": {
          "base_uri": "https://localhost:8080/"
        },
        "id": "S81L8UpbbT4d",
        "outputId": "0b0f1cd5-7e47-479e-e1fc-1b3ad12b7616"
      },
      "outputs": [
        {
          "output_type": "stream",
          "name": "stdout",
          "text": [
            "Looking in indexes: https://pypi.org/simple, https://us-python.pkg.dev/colab-wheels/public/simple/\n",
            "Collecting transformers\n",
            "  Downloading transformers-4.28.1-py3-none-any.whl (7.0 MB)\n",
            "\u001b[2K     \u001b[90m━━━━━━━━━━━━━━━━━━━━━━━━━━━━━━━━━━━━━━━━\u001b[0m \u001b[32m7.0/7.0 MB\u001b[0m \u001b[31m53.8 MB/s\u001b[0m eta \u001b[36m0:00:00\u001b[0m\n",
            "\u001b[?25hRequirement already satisfied: filelock in /usr/local/lib/python3.10/dist-packages (from transformers) (3.12.0)\n",
            "Collecting huggingface-hub<1.0,>=0.11.0 (from transformers)\n",
            "  Downloading huggingface_hub-0.14.1-py3-none-any.whl (224 kB)\n",
            "\u001b[2K     \u001b[90m━━━━━━━━━━━━━━━━━━━━━━━━━━━━━━━━━━━━━━\u001b[0m \u001b[32m224.5/224.5 kB\u001b[0m \u001b[31m26.4 MB/s\u001b[0m eta \u001b[36m0:00:00\u001b[0m\n",
            "\u001b[?25hRequirement already satisfied: numpy>=1.17 in /usr/local/lib/python3.10/dist-packages (from transformers) (1.22.4)\n",
            "Requirement already satisfied: packaging>=20.0 in /usr/local/lib/python3.10/dist-packages (from transformers) (23.1)\n",
            "Requirement already satisfied: pyyaml>=5.1 in /usr/local/lib/python3.10/dist-packages (from transformers) (6.0)\n",
            "Requirement already satisfied: regex!=2019.12.17 in /usr/local/lib/python3.10/dist-packages (from transformers) (2022.10.31)\n",
            "Requirement already satisfied: requests in /usr/local/lib/python3.10/dist-packages (from transformers) (2.27.1)\n",
            "Collecting tokenizers!=0.11.3,<0.14,>=0.11.1 (from transformers)\n",
            "  Downloading tokenizers-0.13.3-cp310-cp310-manylinux_2_17_x86_64.manylinux2014_x86_64.whl (7.8 MB)\n",
            "\u001b[2K     \u001b[90m━━━━━━━━━━━━━━━━━━━━━━━━━━━━━━━━━━━━━━━━\u001b[0m \u001b[32m7.8/7.8 MB\u001b[0m \u001b[31m102.6 MB/s\u001b[0m eta \u001b[36m0:00:00\u001b[0m\n",
            "\u001b[?25hRequirement already satisfied: tqdm>=4.27 in /usr/local/lib/python3.10/dist-packages (from transformers) (4.65.0)\n",
            "Requirement already satisfied: fsspec in /usr/local/lib/python3.10/dist-packages (from huggingface-hub<1.0,>=0.11.0->transformers) (2023.4.0)\n",
            "Requirement already satisfied: typing-extensions>=3.7.4.3 in /usr/local/lib/python3.10/dist-packages (from huggingface-hub<1.0,>=0.11.0->transformers) (4.5.0)\n",
            "Requirement already satisfied: urllib3<1.27,>=1.21.1 in /usr/local/lib/python3.10/dist-packages (from requests->transformers) (1.26.15)\n",
            "Requirement already satisfied: certifi>=2017.4.17 in /usr/local/lib/python3.10/dist-packages (from requests->transformers) (2022.12.7)\n",
            "Requirement already satisfied: charset-normalizer~=2.0.0 in /usr/local/lib/python3.10/dist-packages (from requests->transformers) (2.0.12)\n",
            "Requirement already satisfied: idna<4,>=2.5 in /usr/local/lib/python3.10/dist-packages (from requests->transformers) (3.4)\n",
            "Installing collected packages: tokenizers, huggingface-hub, transformers\n",
            "Successfully installed huggingface-hub-0.14.1 tokenizers-0.13.3 transformers-4.28.1\n"
          ]
        }
      ],
      "source": [
        "!pip install transformers"
      ]
    },
    {
      "cell_type": "code",
      "execution_count": 3,
      "metadata": {
        "id": "tiWxVzu2a1mQ"
      },
      "outputs": [],
      "source": [
        "import pandas as pd\n",
        "datapath = 'final_task1_data'\n",
        "df = pd.read_csv(datapath)\n",
        "df.head()"
      ]
    },
    {
      "cell_type": "code",
      "source": [
        "labels = [labels[label] for label in df['label']]\n",
        "texts = [tokenizer(str(text), \n",
        "                               padding='max_length', max_length = 512, truncation=True,\n",
        "                                return_tensors=\"pt\") for text in df['text']]"
      ],
      "metadata": {
        "id": "hFpUwHdnCQRo"
      },
      "execution_count": 4,
      "outputs": []
    },
    {
      "cell_type": "code",
      "source": [
        "labels = {'negative': 0, 'positive': 1}"
      ],
      "metadata": {
        "id": "Y9k89pooEzN8"
      },
      "execution_count": null,
      "outputs": []
    },
    {
      "cell_type": "code",
      "source": [
        "labels = [labels[label] for label in df['label']]"
      ],
      "metadata": {
        "id": "llBHLyymE19G"
      },
      "execution_count": null,
      "outputs": []
    },
    {
      "cell_type": "code",
      "source": [
        "tokenizer = RobertaTokenizer.from_pretrained('roberta-base')\n",
        "texts = [tokenizer(str(text), padding='max_length', max_length=512, truncation=True, return_tensors=\"pt\") for text in df['text']]\n"
      ],
      "metadata": {
        "id": "Y3zSqxe9E7aI"
      },
      "execution_count": null,
      "outputs": []
    },
    {
      "cell_type": "code",
      "source": [
        "np.random.seed(112)\n",
        "df_train, df_val, df_test = np.split(df.sample(frac=1, random_state=42), \n",
        "                                     [int(.8*len(df)), int(.9*len(df))])\n",
        "\n",
        "print(len(df_train),len(df_val), len(df_test))\n",
        "print(df_train.head())\n",
        "print(df_val.head())\n"
      ],
      "metadata": {
        "id": "p7jerjexCM68"
      },
      "execution_count": null,
      "outputs": []
    },
    {
      "cell_type": "code",
      "source": [
        "# Set device\n",
        "device = torch.device(\"cuda\" if torch.cuda.is_available() else \"cpu\")"
      ],
      "metadata": {
        "id": "rCZIZBjhCa9q"
      },
      "execution_count": null,
      "outputs": []
    },
    {
      "cell_type": "code",
      "source": [
        "# Define hyperparameters\n",
        "batch_size = 32\n",
        "num_epochs = 5\n",
        "learning_rate = 2e-5\n"
      ],
      "metadata": {
        "id": "uG17Zjh4CfW7"
      },
      "execution_count": null,
      "outputs": []
    },
    {
      "cell_type": "code",
      "source": [
        "# Create a TensorDataset and DataLoader for the train set\n",
        "train_input_ids = torch.cat([text['input_ids'] for text in texts[:len(df_train)]], dim=0)\n",
        "train_attention_mask = torch.cat([text['attention_mask'] for text in texts[:len(df_train)]], dim=0)\n",
        "train_labels = torch.tensor(labels[:len(df_train)])\n"
      ],
      "metadata": {
        "id": "h58RIXiCCk7R"
      },
      "execution_count": null,
      "outputs": []
    },
    {
      "cell_type": "code",
      "source": [
        "train_dataset = TensorDataset(train_input_ids, train_attention_mask, train_labels)\n",
        "train_loader = DataLoader(train_dataset, batch_size=batch_size, shuffle=True)\n"
      ],
      "metadata": {
        "id": "0cq36IafFNa0"
      },
      "execution_count": null,
      "outputs": []
    },
    {
      "cell_type": "code",
      "source": [
        "# Create a TensorDataset and DataLoader for the validation set\n",
        "val_input_ids = torch.cat([text['input_ids'] for text in texts[len(df_train):len(df_train)+len(df_val)]], dim=0)\n",
        "val_attention_mask = torch.cat([text['attention_mask'] for text in texts[len(df_train):len(df_train)+len(df_val)]], dim=0)\n",
        "val_labels = torch.tensor(labels[len(df_train):len(df_train)+len(df_val)])"
      ],
      "metadata": {
        "id": "QB7Qv46GFRHl"
      },
      "execution_count": null,
      "outputs": []
    },
    {
      "cell_type": "code",
      "source": [
        "val_dataset = TensorDataset(val_input_ids, val_attention_mask, val_labels)\n",
        "val_loader = DataLoader(val_dataset, batch_size=batch_size, shuffle=False)"
      ],
      "metadata": {
        "id": "A4MRewlTFU8r"
      },
      "execution_count": null,
      "outputs": []
    },
    {
      "cell_type": "code",
      "source": [
        "# Initialize RoBERTa model\n",
        "model = RobertaForSequenceClassification.from_pretrained('roberta-base')\n",
        "model.to(device)\n"
      ],
      "metadata": {
        "id": "kNvFkU30CnQg"
      },
      "execution_count": null,
      "outputs": []
    },
    {
      "cell_type": "code",
      "source": [
        "# Set optimizer and loss function\n",
        "optimizer = AdamW(model.parameters(), lr=learning_rate)\n",
        "loss_fn = torch.nn.CrossEntropyLoss()\n"
      ],
      "metadata": {
        "id": "LW4psyA7CpWK"
      },
      "execution_count": null,
      "outputs": []
    },
    {
      "cell_type": "code",
      "source": [
        "# Training loop\n",
        "for epoch in range(num_epochs):\n",
        "    model.train()\n",
        "    total_loss = 0\n",
        "\n",
        "    for batch in data_loader:\n",
        "        input_ids_batch, attention_mask_batch, labels_batch = tuple(t.to(device) for t in batch)\n",
        "        optimizer.zero_grad()\n",
        "\n",
        "        outputs = model(input_ids_batch, attention_mask=attention_mask_batch, labels=labels_batch)\n",
        "        loss = outputs.loss\n",
        "        total_loss += loss.item()\n",
        "\n",
        "        loss.backward()\n",
        "        torch.nn.utils.clip_grad_norm_(model.parameters(), 1.0)\n",
        "        optimizer.step()\n",
        "\n",
        "    avg_loss = total_loss / len(data_loader)\n",
        "    print(f\"Epoch {epoch+1}/{num_epochs} - Avg Loss: {avg_loss}\")\n",
        "\n",
        "# Save the trained model\n",
        "model.save_pretrained(\"roberta_model\")\n",
        "tokenizer.save_pretrained(\"roberta_model\")"
      ],
      "metadata": {
        "id": "vdnUQxBXCtBF"
      },
      "execution_count": null,
      "outputs": []
    },
    {
      "cell_type": "code",
      "source": [
        "# Load and tokenize data\n",
        "tokenizer = RobertaTokenizer.from_pretrained('roberta-base')\n",
        "texts = [\"Example sentence 1\", \"Example sentence 2\", ...]  # List of input texts\n",
        "labels = [0, 1, ...]  # List of corresponding labels (0 or 1)\n",
        "encoded_inputs = tokenizer(texts, padding=True, truncation=True, return_tensors='pt')\n",
        "input_ids = encoded_inputs['input_ids']\n",
        "attention_mask = encoded_inputs['attention_mask']\n",
        "labels = torch.tensor(labels)\n"
      ],
      "metadata": {
        "id": "qqTsUHB1CjJ4"
      },
      "execution_count": null,
      "outputs": []
    },
    {
      "cell_type": "code",
      "source": [
        "# Set device\n",
        "device = torch.device(\"cuda\" if torch.cuda.is_available() else \"cpu\")\n",
        "\n",
        "# Load the trained model and tokenizer\n",
        "model = RobertaForSequenceClassification.from_pretrained(\"roberta_model\")\n",
        "tokenizer = RobertaTokenizer.from_pretrained(\"roberta_model\")\n",
        "\n",
        "# Load the evaluation dataset and tokenize it\n",
        "eval_texts = df_val['text'].tolist()\n",
        "eval_labels = [labels[label] for label in df_val['label']]\n",
        "encoded_inputs = tokenizer(eval_texts, padding=True, truncation=True, return_tensors=\"pt\")\n",
        "input_ids = encoded_inputs[\"input_ids\"]\n",
        "attention_mask = encoded_inputs[\"attention_mask\"]\n",
        "labels = torch.tensor(eval_labels)\n",
        "\n",
        "# Create dataset and data loader for evaluation\n",
        "eval_dataset = TensorDataset(input_ids, attention_mask, labels)\n",
        "eval_loader = DataLoader(eval_dataset, batch_size=batch_size, shuffle=False)\n",
        "\n",
        "# Evaluate the model\n",
        "model.eval()\n",
        "eval_loss, eval_acc, eval_steps = 0, 0, 0\n",
        "\n",
        "with torch.no_grad():\n",
        "    for batch in eval_loader:\n",
        "        input_ids_batch, attention_mask_batch, labels_batch = tuple(t.to(device) for t in batch)\n",
        "\n",
        "        outputs = model(input_ids_batch, attention_mask=attention_mask_batch, labels=labels_batch)\n",
        "        loss, logits = outputs.loss, outputs.logits\n",
        "\n",
        "        eval_loss += loss.item()\n",
        "        eval_acc += (logits.argmax(1) == labels_batch).sum().item()\n",
        "        eval_steps += 1\n",
        "\n",
        "eval_loss /= eval_steps\n",
        "eval_acc /= len(df_val)\n",
        "\n",
        "print(f\"Validation Loss: {eval_loss:.4f}\")\n",
        "print(f\"Validation Accuracy: {eval_acc:.4f}\")\n"
      ],
      "metadata": {
        "id": "Ux3RWBuoGIEL"
      },
      "execution_count": null,
      "outputs": []
    },
    {
      "cell_type": "code",
      "source": [
        "# Training loop\n",
        "for epoch in range(num_epochs):\n",
        "    model.train()\n",
        "    total_loss = 0\n",
        "\n",
        "    for batch in train_loader:\n",
        "        input_ids_batch, attention_mask_batch, labels_batch = tuple(t.to(device) for t in batch)\n",
        "        optimizer.zero_grad()\n",
        "\n",
        "        outputs = model(input_ids_batch, attention_mask=attention_mask_batch, labels=labels_batch)\n",
        "        loss = outputs.loss\n",
        "        total_loss += loss.item()\n",
        "\n",
        "        loss.backward()\n",
        "        torch.nn.utils.clip_grad_norm_(model.parameters(), 1.0)\n",
        "        optimizer.step()\n",
        "\n",
        "    avg_loss = total_loss / len(train_loader)\n",
        "    print(f\"Epoch {epoch+1}/{num_epochs} - Train Loss: {avg_loss}\")"
      ],
      "metadata": {
        "id": "J74GOUZVFpby"
      },
      "execution_count": null,
      "outputs": []
    }
  ],
  "metadata": {
    "accelerator": "GPU",
    "colab": {
      "machine_shape": "hm",
      "provenance": [],
      "gpuType": "T4",
      "include_colab_link": true
    },
    "gpuClass": "standard",
    "kernelspec": {
      "display_name": "Python 3",
      "name": "python3"
    },
    "language_info": {
      "name": "python"
    }
  },
  "nbformat": 4,
  "nbformat_minor": 0
}