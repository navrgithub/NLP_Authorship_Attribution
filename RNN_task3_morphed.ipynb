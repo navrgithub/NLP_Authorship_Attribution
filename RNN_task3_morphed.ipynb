{
  "nbformat": 4,
  "nbformat_minor": 0,
  "metadata": {
    "colab": {
      "provenance": [],
      "gpuType": "T4",
      "include_colab_link": true
    },
    "kernelspec": {
      "name": "python3",
      "display_name": "Python 3"
    },
    "language_info": {
      "name": "python"
    },
    "gpuClass": "standard",
    "accelerator": "GPU"
  },
  "cells": [
    {
      "cell_type": "markdown",
      "metadata": {
        "id": "view-in-github",
        "colab_type": "text"
      },
      "source": [
        "<a href=\"https://colab.research.google.com/github/navrgithub/NLP_Authorship_Attribution/blob/main/RNN_task3_morphed.ipynb\" target=\"_parent\"><img src=\"https://colab.research.google.com/assets/colab-badge.svg\" alt=\"Open In Colab\"/></a>"
      ]
    },
    {
      "cell_type": "code",
      "source": [
        "from google.colab import drive\n",
        "drive.mount('/content/drive')"
      ],
      "metadata": {
        "colab": {
          "base_uri": "https://localhost:8080/"
        },
        "id": "BJIch_VfwSp4",
        "outputId": "bf4eb482-354f-4d96-866e-978448e3d042"
      },
      "execution_count": null,
      "outputs": [
        {
          "output_type": "stream",
          "name": "stdout",
          "text": [
            "Mounted at /content/drive\n"
          ]
        }
      ]
    },
    {
      "cell_type": "code",
      "source": [
        "import os\n",
        "os.getcwd()"
      ],
      "metadata": {
        "colab": {
          "base_uri": "https://localhost:8080/",
          "height": 36
        },
        "id": "yQ1MJ2HlwSnH",
        "outputId": "686dad81-458f-49a0-822e-ebd26b8d35bf"
      },
      "execution_count": null,
      "outputs": [
        {
          "output_type": "execute_result",
          "data": {
            "text/plain": [
              "'/content'"
            ],
            "application/vnd.google.colaboratory.intrinsic+json": {
              "type": "string"
            }
          },
          "metadata": {},
          "execution_count": 2
        }
      ]
    },
    {
      "cell_type": "code",
      "source": [
        "os.chdir('/content/drive/MyDrive/Colab Notebooks/NLP group project/data')"
      ],
      "metadata": {
        "id": "8GWPEuX0wSkk"
      },
      "execution_count": null,
      "outputs": []
    },
    {
      "cell_type": "code",
      "source": [
        "!pip install torchtext==0.6.0"
      ],
      "metadata": {
        "colab": {
          "base_uri": "https://localhost:8080/"
        },
        "id": "5G4Pj56oNRv0",
        "outputId": "aff10a3e-b1bc-4ba4-a2ad-40cdefc14ace"
      },
      "execution_count": null,
      "outputs": [
        {
          "output_type": "stream",
          "name": "stdout",
          "text": [
            "Looking in indexes: https://pypi.org/simple, https://us-python.pkg.dev/colab-wheels/public/simple/\n",
            "Collecting torchtext==0.6.0\n",
            "  Downloading torchtext-0.6.0-py3-none-any.whl (64 kB)\n",
            "\u001b[2K     \u001b[90m━━━━━━━━━━━━━━━━━━━━━━━━━━━━━━━━━━━━━━━━\u001b[0m \u001b[32m64.2/64.2 kB\u001b[0m \u001b[31m3.3 MB/s\u001b[0m eta \u001b[36m0:00:00\u001b[0m\n",
            "\u001b[?25hRequirement already satisfied: tqdm in /usr/local/lib/python3.10/dist-packages (from torchtext==0.6.0) (4.65.0)\n",
            "Requirement already satisfied: requests in /usr/local/lib/python3.10/dist-packages (from torchtext==0.6.0) (2.27.1)\n",
            "Requirement already satisfied: torch in /usr/local/lib/python3.10/dist-packages (from torchtext==0.6.0) (2.0.0+cu118)\n",
            "Requirement already satisfied: numpy in /usr/local/lib/python3.10/dist-packages (from torchtext==0.6.0) (1.22.4)\n",
            "Requirement already satisfied: six in /usr/local/lib/python3.10/dist-packages (from torchtext==0.6.0) (1.16.0)\n",
            "Collecting sentencepiece (from torchtext==0.6.0)\n",
            "  Downloading sentencepiece-0.1.99-cp310-cp310-manylinux_2_17_x86_64.manylinux2014_x86_64.whl (1.3 MB)\n",
            "\u001b[2K     \u001b[90m━━━━━━━━━━━━━━━━━━━━━━━━━━━━━━━━━━━━━━━━\u001b[0m \u001b[32m1.3/1.3 MB\u001b[0m \u001b[31m26.7 MB/s\u001b[0m eta \u001b[36m0:00:00\u001b[0m\n",
            "\u001b[?25hRequirement already satisfied: urllib3<1.27,>=1.21.1 in /usr/local/lib/python3.10/dist-packages (from requests->torchtext==0.6.0) (1.26.15)\n",
            "Requirement already satisfied: certifi>=2017.4.17 in /usr/local/lib/python3.10/dist-packages (from requests->torchtext==0.6.0) (2022.12.7)\n",
            "Requirement already satisfied: charset-normalizer~=2.0.0 in /usr/local/lib/python3.10/dist-packages (from requests->torchtext==0.6.0) (2.0.12)\n",
            "Requirement already satisfied: idna<4,>=2.5 in /usr/local/lib/python3.10/dist-packages (from requests->torchtext==0.6.0) (3.4)\n",
            "Requirement already satisfied: filelock in /usr/local/lib/python3.10/dist-packages (from torch->torchtext==0.6.0) (3.12.0)\n",
            "Requirement already satisfied: typing-extensions in /usr/local/lib/python3.10/dist-packages (from torch->torchtext==0.6.0) (4.5.0)\n",
            "Requirement already satisfied: sympy in /usr/local/lib/python3.10/dist-packages (from torch->torchtext==0.6.0) (1.11.1)\n",
            "Requirement already satisfied: networkx in /usr/local/lib/python3.10/dist-packages (from torch->torchtext==0.6.0) (3.1)\n",
            "Requirement already satisfied: jinja2 in /usr/local/lib/python3.10/dist-packages (from torch->torchtext==0.6.0) (3.1.2)\n",
            "Requirement already satisfied: triton==2.0.0 in /usr/local/lib/python3.10/dist-packages (from torch->torchtext==0.6.0) (2.0.0)\n",
            "Requirement already satisfied: cmake in /usr/local/lib/python3.10/dist-packages (from triton==2.0.0->torch->torchtext==0.6.0) (3.25.2)\n",
            "Requirement already satisfied: lit in /usr/local/lib/python3.10/dist-packages (from triton==2.0.0->torch->torchtext==0.6.0) (16.0.3)\n",
            "Requirement already satisfied: MarkupSafe>=2.0 in /usr/local/lib/python3.10/dist-packages (from jinja2->torch->torchtext==0.6.0) (2.1.2)\n",
            "Requirement already satisfied: mpmath>=0.19 in /usr/local/lib/python3.10/dist-packages (from sympy->torch->torchtext==0.6.0) (1.3.0)\n",
            "Installing collected packages: sentencepiece, torchtext\n",
            "  Attempting uninstall: torchtext\n",
            "    Found existing installation: torchtext 0.15.1\n",
            "    Uninstalling torchtext-0.15.1:\n",
            "      Successfully uninstalled torchtext-0.15.1\n",
            "Successfully installed sentencepiece-0.1.99 torchtext-0.6.0\n"
          ]
        }
      ]
    },
    {
      "cell_type": "code",
      "source": [
        "import torch\n",
        "from torchtext import data\n",
        "from torchtext import datasets\n",
        "\n",
        "SEED = 1234\n",
        "\n",
        "torch.manual_seed(SEED)\n",
        "torch.backends.cudnn.deterministic = True\n",
        "\n",
        "TEXT = data.Field(tokenize = 'spacy',tokenizer_language='en_core_web_sm', include_lengths = True)\n",
        "LABEL = data.LabelField(dtype = torch.float)"
      ],
      "metadata": {
        "id": "2f31E7biNer0"
      },
      "execution_count": null,
      "outputs": []
    },
    {
      "cell_type": "code",
      "source": [
        "import pandas as pd"
      ],
      "metadata": {
        "id": "869PvF4WNeuv"
      },
      "execution_count": null,
      "outputs": []
    },
    {
      "cell_type": "code",
      "source": [
        "df = pd.read_csv('final_task3_data.csv')"
      ],
      "metadata": {
        "id": "6n41G-m4Nexk"
      },
      "execution_count": null,
      "outputs": []
    },
    {
      "cell_type": "code",
      "source": [
        "len(df)"
      ],
      "metadata": {
        "colab": {
          "base_uri": "https://localhost:8080/"
        },
        "id": "JvnIozbaNe0T",
        "outputId": "6afbf2d6-62b5-4e3d-c63b-bcfbb486499b"
      },
      "execution_count": null,
      "outputs": [
        {
          "output_type": "execute_result",
          "data": {
            "text/plain": [
              "10661"
            ]
          },
          "metadata": {},
          "execution_count": 8
        }
      ]
    },
    {
      "cell_type": "code",
      "source": [
        "df.head()"
      ],
      "metadata": {
        "colab": {
          "base_uri": "https://localhost:8080/",
          "height": 206
        },
        "id": "mqStd4TeNe3O",
        "outputId": "399ee714-bde0-41b6-df07-e28c252235a1"
      },
      "execution_count": null,
      "outputs": [
        {
          "output_type": "execute_result",
          "data": {
            "text/plain": [
              "                                          Generation label\n",
              "0  latest headlines on cnn business tl;dr the u.s...  ctrl\n",
              "1  china wants to take a victory lap over its han...  ctrl\n",
              "2  coronavirus disinformation creates challenges ...  ctrl\n",
              "3  china coronavirus: eating wild animals made il...  ctrl\n",
              "4  china's economy could shrink for the first tim...  ctrl"
            ],
            "text/html": [
              "\n",
              "  <div id=\"df-1420c880-3fbe-4779-91be-9921e9791a9e\">\n",
              "    <div class=\"colab-df-container\">\n",
              "      <div>\n",
              "<style scoped>\n",
              "    .dataframe tbody tr th:only-of-type {\n",
              "        vertical-align: middle;\n",
              "    }\n",
              "\n",
              "    .dataframe tbody tr th {\n",
              "        vertical-align: top;\n",
              "    }\n",
              "\n",
              "    .dataframe thead th {\n",
              "        text-align: right;\n",
              "    }\n",
              "</style>\n",
              "<table border=\"1\" class=\"dataframe\">\n",
              "  <thead>\n",
              "    <tr style=\"text-align: right;\">\n",
              "      <th></th>\n",
              "      <th>Generation</th>\n",
              "      <th>label</th>\n",
              "    </tr>\n",
              "  </thead>\n",
              "  <tbody>\n",
              "    <tr>\n",
              "      <th>0</th>\n",
              "      <td>latest headlines on cnn business tl;dr the u.s...</td>\n",
              "      <td>ctrl</td>\n",
              "    </tr>\n",
              "    <tr>\n",
              "      <th>1</th>\n",
              "      <td>china wants to take a victory lap over its han...</td>\n",
              "      <td>ctrl</td>\n",
              "    </tr>\n",
              "    <tr>\n",
              "      <th>2</th>\n",
              "      <td>coronavirus disinformation creates challenges ...</td>\n",
              "      <td>ctrl</td>\n",
              "    </tr>\n",
              "    <tr>\n",
              "      <th>3</th>\n",
              "      <td>china coronavirus: eating wild animals made il...</td>\n",
              "      <td>ctrl</td>\n",
              "    </tr>\n",
              "    <tr>\n",
              "      <th>4</th>\n",
              "      <td>china's economy could shrink for the first tim...</td>\n",
              "      <td>ctrl</td>\n",
              "    </tr>\n",
              "  </tbody>\n",
              "</table>\n",
              "</div>\n",
              "      <button class=\"colab-df-convert\" onclick=\"convertToInteractive('df-1420c880-3fbe-4779-91be-9921e9791a9e')\"\n",
              "              title=\"Convert this dataframe to an interactive table.\"\n",
              "              style=\"display:none;\">\n",
              "        \n",
              "  <svg xmlns=\"http://www.w3.org/2000/svg\" height=\"24px\"viewBox=\"0 0 24 24\"\n",
              "       width=\"24px\">\n",
              "    <path d=\"M0 0h24v24H0V0z\" fill=\"none\"/>\n",
              "    <path d=\"M18.56 5.44l.94 2.06.94-2.06 2.06-.94-2.06-.94-.94-2.06-.94 2.06-2.06.94zm-11 1L8.5 8.5l.94-2.06 2.06-.94-2.06-.94L8.5 2.5l-.94 2.06-2.06.94zm10 10l.94 2.06.94-2.06 2.06-.94-2.06-.94-.94-2.06-.94 2.06-2.06.94z\"/><path d=\"M17.41 7.96l-1.37-1.37c-.4-.4-.92-.59-1.43-.59-.52 0-1.04.2-1.43.59L10.3 9.45l-7.72 7.72c-.78.78-.78 2.05 0 2.83L4 21.41c.39.39.9.59 1.41.59.51 0 1.02-.2 1.41-.59l7.78-7.78 2.81-2.81c.8-.78.8-2.07 0-2.86zM5.41 20L4 18.59l7.72-7.72 1.47 1.35L5.41 20z\"/>\n",
              "  </svg>\n",
              "      </button>\n",
              "      \n",
              "  <style>\n",
              "    .colab-df-container {\n",
              "      display:flex;\n",
              "      flex-wrap:wrap;\n",
              "      gap: 12px;\n",
              "    }\n",
              "\n",
              "    .colab-df-convert {\n",
              "      background-color: #E8F0FE;\n",
              "      border: none;\n",
              "      border-radius: 50%;\n",
              "      cursor: pointer;\n",
              "      display: none;\n",
              "      fill: #1967D2;\n",
              "      height: 32px;\n",
              "      padding: 0 0 0 0;\n",
              "      width: 32px;\n",
              "    }\n",
              "\n",
              "    .colab-df-convert:hover {\n",
              "      background-color: #E2EBFA;\n",
              "      box-shadow: 0px 1px 2px rgba(60, 64, 67, 0.3), 0px 1px 3px 1px rgba(60, 64, 67, 0.15);\n",
              "      fill: #174EA6;\n",
              "    }\n",
              "\n",
              "    [theme=dark] .colab-df-convert {\n",
              "      background-color: #3B4455;\n",
              "      fill: #D2E3FC;\n",
              "    }\n",
              "\n",
              "    [theme=dark] .colab-df-convert:hover {\n",
              "      background-color: #434B5C;\n",
              "      box-shadow: 0px 1px 3px 1px rgba(0, 0, 0, 0.15);\n",
              "      filter: drop-shadow(0px 1px 2px rgba(0, 0, 0, 0.3));\n",
              "      fill: #FFFFFF;\n",
              "    }\n",
              "  </style>\n",
              "\n",
              "      <script>\n",
              "        const buttonEl =\n",
              "          document.querySelector('#df-1420c880-3fbe-4779-91be-9921e9791a9e button.colab-df-convert');\n",
              "        buttonEl.style.display =\n",
              "          google.colab.kernel.accessAllowed ? 'block' : 'none';\n",
              "\n",
              "        async function convertToInteractive(key) {\n",
              "          const element = document.querySelector('#df-1420c880-3fbe-4779-91be-9921e9791a9e');\n",
              "          const dataTable =\n",
              "            await google.colab.kernel.invokeFunction('convertToInteractive',\n",
              "                                                     [key], {});\n",
              "          if (!dataTable) return;\n",
              "\n",
              "          const docLinkHtml = 'Like what you see? Visit the ' +\n",
              "            '<a target=\"_blank\" href=https://colab.research.google.com/notebooks/data_table.ipynb>data table notebook</a>'\n",
              "            + ' to learn more about interactive tables.';\n",
              "          element.innerHTML = '';\n",
              "          dataTable['output_type'] = 'display_data';\n",
              "          await google.colab.output.renderOutput(dataTable, element);\n",
              "          const docLink = document.createElement('div');\n",
              "          docLink.innerHTML = docLinkHtml;\n",
              "          element.appendChild(docLink);\n",
              "        }\n",
              "      </script>\n",
              "    </div>\n",
              "  </div>\n",
              "  "
            ]
          },
          "metadata": {},
          "execution_count": 9
        }
      ]
    },
    {
      "cell_type": "code",
      "source": [
        "df[['text']] = df[['text']]. astype(str)\n"
      ],
      "metadata": {
        "id": "Z-yGAkfcNe80"
      },
      "execution_count": null,
      "outputs": []
    },
    {
      "cell_type": "code",
      "source": [
        "df = df[['text','label']]\n"
      ],
      "metadata": {
        "id": "6Be0yF6sNe6A"
      },
      "execution_count": null,
      "outputs": []
    },
    {
      "cell_type": "code",
      "execution_count": null,
      "metadata": {
        "id": "UNZ4SOoGKjm3"
      },
      "outputs": [],
      "source": [
        "TEXT = data.Field(tokenize = 'spacy', tokenizer_language='en_core_web_sm',  include_lengths = True)\n",
        "LABEL = data.LabelField(sequential=False, use_vocab=False, dtype = torch.float)\n",
        "\n",
        "pt = [TEXT.preprocess(x) for x in df['text']]\n",
        "\n",
        "\n",
        "# load fastext simple embedding with 300d\n",
        "TEXT.build_vocab(\n",
        "    pt, \n",
        "    max_size = 25000,\n",
        "    vectors='glove.6B.50d',\n",
        "    unk_init = torch.Tensor.normal_\n",
        ")"
      ]
    },
    {
      "cell_type": "code",
      "source": [
        "label_to_index= {label: index for index, label in enumerate(df['label'].unique())}"
      ],
      "metadata": {
        "id": "7fo-4PymNKox"
      },
      "execution_count": null,
      "outputs": []
    },
    {
      "cell_type": "code",
      "source": [
        "df['label_new'] = df['label'].apply(lambda y: label_to_index[y])\n",
        "\n",
        "class DataFrameDataset(data.Dataset):\n",
        "    def __init__(self, df: pd.DataFrame, fields: list):\n",
        "        super(DataFrameDataset, self).__init__(\n",
        "            [\n",
        "                data.Example.fromlist(list(r), fields) \n",
        "                for i, r in df.iterrows()\n",
        "            ], fields)\n",
        "     "
      ],
      "metadata": {
        "id": "hlf6Q7ioSuzm"
      },
      "execution_count": null,
      "outputs": []
    },
    {
      "cell_type": "code",
      "source": [
        "df_new=df[['text','label_new']]\n"
      ],
      "metadata": {
        "id": "n7EivRJkWJAA"
      },
      "execution_count": null,
      "outputs": []
    },
    {
      "cell_type": "code",
      "source": [
        "examples=[]\n",
        "for i,row in df_new.iterrows():\n",
        "  examples.append(data.Example.fromlist(row, fields=[('text', TEXT), ('label', LABEL)]))"
      ],
      "metadata": {
        "id": "ykBCGeBlWoY6"
      },
      "execution_count": null,
      "outputs": []
    },
    {
      "cell_type": "code",
      "source": [
        "itrr=0\n",
        "for i in examples:\n",
        "  if type(i.label) != int:\n",
        "    itrr+=1\n",
        "     \n",
        "     "
      ],
      "metadata": {
        "id": "yKl9xYuWYWbI"
      },
      "execution_count": null,
      "outputs": []
    },
    {
      "cell_type": "code",
      "source": [
        "dataset = data.Dataset(examples, fields=[('text', TEXT), ('label', LABEL)])"
      ],
      "metadata": {
        "id": "SludIWxDW1TI"
      },
      "execution_count": null,
      "outputs": []
    },
    {
      "cell_type": "code",
      "source": [
        "train_dataset, test_dataset, valid_dataset = dataset.split(split_ratio=[0.65, 0.15, 0.2], stratified=True, strata_field='label')"
      ],
      "metadata": {
        "id": "VnPGmyi0W8d2"
      },
      "execution_count": null,
      "outputs": []
    },
    {
      "cell_type": "code",
      "source": [
        "device = torch.device('cuda' if torch.cuda.is_available() else 'cpu')\n",
        "print(\"We are working with \", device)\n",
        "# device = 'cpu'\n",
        "train_iter, test_iter, valid_iter = data.BucketIterator.splits(\n",
        "    datasets=(train_dataset, test_dataset, valid_dataset), \n",
        "    batch_size=32,\n",
        "    sort_within_batch = True,\n",
        "    sort_key=lambda x: len(x.text),\n",
        "    device=device\n",
        ")"
      ],
      "metadata": {
        "colab": {
          "base_uri": "https://localhost:8080/"
        },
        "id": "JE5GcV87TO-7",
        "outputId": "e3bfab5a-0cf1-4bc2-f46d-7f1df6ef242b"
      },
      "execution_count": null,
      "outputs": [
        {
          "output_type": "stream",
          "name": "stdout",
          "text": [
            "We are working with  cuda\n"
          ]
        }
      ]
    },
    {
      "cell_type": "code",
      "source": [
        "INPUT_DIM = len(TEXT.vocab)\n",
        "EMBEDDING_DIM = 50\n",
        "HIDDEN_DIM = 256\n",
        "OUTPUT_DIM = 11\n",
        "N_LAYERS = 2\n",
        "BIDIRECTIONAL = False\n",
        "DROPOUT = 0.5\n",
        "PAD_IDX = TEXT.vocab.stoi[TEXT.pad_token]\n",
        "\n",
        "model = RNN(INPUT_DIM, \n",
        "            EMBEDDING_DIM, \n",
        "            HIDDEN_DIM, \n",
        "            OUTPUT_DIM, \n",
        "            N_LAYERS, \n",
        "            BIDIRECTIONAL, \n",
        "            DROPOUT,\n",
        "            PAD_IDX)"
      ],
      "metadata": {
        "id": "wpAXkTBMTXyL"
      },
      "execution_count": null,
      "outputs": []
    },
    {
      "cell_type": "code",
      "source": [
        "def count_parameters(model):\n",
        "    return sum(p.numel() for p in model.parameters() if p.requires_grad)\n",
        "\n",
        "print(f'The model has {count_parameters(model):,} trainable parameters')"
      ],
      "metadata": {
        "colab": {
          "base_uri": "https://localhost:8080/"
        },
        "id": "fvdde4iOa1v_",
        "outputId": "36c37228-0061-40c7-91be-30d19848e0fc"
      },
      "execution_count": null,
      "outputs": [
        {
          "output_type": "stream",
          "name": "stdout",
          "text": [
            "The model has 1,713,359 trainable parameters\n"
          ]
        }
      ]
    },
    {
      "cell_type": "code",
      "source": [
        "pretrained_embeddings = TEXT.vocab.vectors\n",
        "\n",
        "print(pretrained_embeddings.shape)"
      ],
      "metadata": {
        "colab": {
          "base_uri": "https://localhost:8080/"
        },
        "id": "BHmh7_nOa1zJ",
        "outputId": "9c26f21c-1f47-473d-ee84-228af86c9aa5"
      },
      "execution_count": null,
      "outputs": [
        {
          "output_type": "stream",
          "name": "stdout",
          "text": [
            "torch.Size([30002, 50])\n"
          ]
        }
      ]
    },
    {
      "cell_type": "code",
      "source": [
        "model.embedding.weight.data.copy_(pretrained_embeddings)"
      ],
      "metadata": {
        "colab": {
          "base_uri": "https://localhost:8080/"
        },
        "id": "R1ORmYIWa12R",
        "outputId": "da244d41-7e64-42c8-fdf2-10f4350f376f"
      },
      "execution_count": null,
      "outputs": [
        {
          "output_type": "execute_result",
          "data": {
            "text/plain": [
              "tensor([[-0.1117, -0.4966,  0.1631,  ...,  0.7372,  0.3910,  0.5158],\n",
              "        [ 0.1825, -0.0737,  0.3147,  ...,  1.3226, -2.6796, -0.1297],\n",
              "        [ 0.1516,  0.3018, -0.1676,  ..., -0.3565,  0.0164,  0.1022],\n",
              "        ...,\n",
              "        [-2.4447,  0.3625,  0.0473,  ..., -0.7721, -1.5739,  0.8893],\n",
              "        [-1.0916, -0.6359,  0.8588,  ...,  0.9888,  0.3444, -0.6899],\n",
              "        [ 1.2178, -1.4262,  0.5219,  ..., -1.3257,  0.9352, -2.3603]])"
            ]
          },
          "metadata": {},
          "execution_count": 29
        }
      ]
    },
    {
      "cell_type": "code",
      "source": [
        "UNK_IDX = TEXT.vocab.stoi[TEXT.unk_token]\n",
        "\n",
        "model.embedding.weight.data[UNK_IDX] = torch.zeros(EMBEDDING_DIM)\n",
        "model.embedding.weight.data[PAD_IDX] = torch.zeros(EMBEDDING_DIM)\n",
        "\n",
        "print(model.embedding.weight.data)"
      ],
      "metadata": {
        "colab": {
          "base_uri": "https://localhost:8080/"
        },
        "id": "4zGvhmlja15V",
        "outputId": "40bc9b1a-36bd-4535-c3c5-d9b075a8b700"
      },
      "execution_count": null,
      "outputs": [
        {
          "output_type": "stream",
          "name": "stdout",
          "text": [
            "tensor([[ 0.0000,  0.0000,  0.0000,  ...,  0.0000,  0.0000,  0.0000],\n",
            "        [ 0.0000,  0.0000,  0.0000,  ...,  0.0000,  0.0000,  0.0000],\n",
            "        [ 0.1516,  0.3018, -0.1676,  ..., -0.3565,  0.0164,  0.1022],\n",
            "        ...,\n",
            "        [-2.4447,  0.3625,  0.0473,  ..., -0.7721, -1.5739,  0.8893],\n",
            "        [-1.0916, -0.6359,  0.8588,  ...,  0.9888,  0.3444, -0.6899],\n",
            "        [ 1.2178, -1.4262,  0.5219,  ..., -1.3257,  0.9352, -2.3603]])\n"
          ]
        }
      ]
    },
    {
      "cell_type": "code",
      "source": [
        "import torch.optim as optim\n",
        "\n",
        "optimizer = optim.Adam(model.parameters())"
      ],
      "metadata": {
        "id": "ieDloipFa18e"
      },
      "execution_count": null,
      "outputs": []
    },
    {
      "cell_type": "code",
      "source": [
        "criterion = nn.CrossEntropyLoss()\n",
        "\n",
        "# device='cpu'\n",
        "model = model.to(device)\n",
        "criterion = criterion.to(device)"
      ],
      "metadata": {
        "id": "BQyW1WnMa1_x"
      },
      "execution_count": null,
      "outputs": []
    },
    {
      "cell_type": "code",
      "source": [
        "def multiclass_accuracy(preds, y):\n",
        "    \"\"\"\n",
        "    Returns accuracy per batch, i.e. if you get 8/10 right, this returns 0.8, NOT 8\n",
        "    \"\"\"\n",
        "    # get the index of the highest prediction for each instance\n",
        "    _, preds = torch.max(preds, dim=1)\n",
        "    correct = (preds == y).float() #convert into float for division \n",
        "    acc = correct.sum() / len(correct)\n",
        "    return acc\n"
      ],
      "metadata": {
        "id": "BcQX2TKNa2Cc"
      },
      "execution_count": null,
      "outputs": []
    },
    {
      "cell_type": "code",
      "source": [
        "def train(model, iterator, optimizer, criterion):\n",
        "    \n",
        "    epoch_loss = 0\n",
        "    epoch_acc = 0\n",
        "    \n",
        "    model.train()\n",
        "    \n",
        "    for batch in iterator:\n",
        "        \n",
        "        optimizer.zero_grad()\n",
        "        \n",
        "        # print(batch.text)\n",
        "        text, text_lengths = batch.text\n",
        "        \n",
        "        predictions = model(text, text_lengths).squeeze(1)\n",
        "\n",
        "        target = batch.label\n",
        "        target = target.type(torch.LongTensor)\n",
        "\n",
        "        # print(target)\n",
        "\n",
        "        # print(predictions)\n",
        "        \n",
        "        loss = criterion(predictions.to(device), target.to(device))\n",
        "        \n",
        "        acc = multiclass_accuracy(predictions, batch.label)\n",
        "        \n",
        "        loss.backward()\n",
        "        \n",
        "        optimizer.step()\n",
        "        \n",
        "        epoch_loss += loss.item()\n",
        "        epoch_acc += acc.item()\n",
        "        \n",
        "    return epoch_loss / len(iterator), epoch_acc / len(iterator)"
      ],
      "metadata": {
        "id": "Hb9Y1yqJa2FP"
      },
      "execution_count": null,
      "outputs": []
    },
    {
      "cell_type": "code",
      "source": [
        "def evaluate(model, iterator, criterion):\n",
        "    \n",
        "    epoch_loss = 0\n",
        "    epoch_acc = 0\n",
        "    \n",
        "    model.eval()\n",
        "    \n",
        "    with torch.no_grad():\n",
        "    \n",
        "        for batch in iterator:\n",
        "            \n",
        "            text, text_lengths = batch.text\n",
        "            \n",
        "            predictions = model(text, text_lengths).squeeze(1)\n",
        "            target = batch.label\n",
        "            target = target.type(torch.LongTensor)\n",
        "            \n",
        "            loss = criterion(predictions.to(device), target.to(device))\n",
        "            \n",
        "            acc = multiclass_accuracy(predictions, batch.label)\n",
        "\n",
        "            epoch_loss += loss.item()\n",
        "            epoch_acc += acc.item()\n",
        "\n",
        "\n",
        "\n",
        "    return epoch_loss / len(iterator), epoch_acc / len(iterator)"
      ],
      "metadata": {
        "id": "o1x24ifjcGgs"
      },
      "execution_count": null,
      "outputs": []
    },
    {
      "cell_type": "code",
      "source": [
        "import time\n",
        "\n",
        "def epoch_time(start_time, end_time):\n",
        "    elapsed_time = end_time - start_time\n",
        "    elapsed_mins = int(elapsed_time / 60)\n",
        "    elapsed_secs = int(elapsed_time - (elapsed_mins * 60))\n",
        "    return elapsed_mins, elapsed_secs"
      ],
      "metadata": {
        "id": "76kTNu64cKJO"
      },
      "execution_count": null,
      "outputs": []
    },
    {
      "cell_type": "code",
      "source": [
        "N_EPOCHS = 50\n",
        "path = F\"rnn_model_task3.pt\"\n",
        "best_valid_loss = float('inf')\n",
        "\n",
        "for epoch in range(N_EPOCHS):\n",
        "\n",
        "    start_time = time.time()\n",
        "    \n",
        "    train_loss, train_acc = train(model, train_iter, optimizer, criterion)\n",
        "    valid_loss, valid_acc = evaluate(model, valid_iter, criterion)\n",
        "    \n",
        "    end_time = time.time()\n",
        "\n",
        "    epoch_mins, epoch_secs = epoch_time(start_time, end_time)\n",
        "    \n",
        "    if valid_loss < best_valid_loss:\n",
        "        best_valid_loss = valid_loss\n",
        "        torch.save(model.state_dict(), path)\n",
        "    \n",
        "    print(f'Epoch: {epoch+1:02} | Epoch Time: {epoch_mins}m {epoch_secs}s')\n",
        "    print(f'\\tTrain Loss: {train_loss:.3f} | Train Acc: {train_acc*100:.2f}%')\n",
        "    print(f'\\t Val. Loss: {valid_loss:.3f} |  Val. Acc: {valid_acc*100:.2f}%')"
      ],
      "metadata": {
        "colab": {
          "base_uri": "https://localhost:8080/"
        },
        "id": "F9RiGfJpcNX1",
        "outputId": "7be5e3fc-0294-4bd2-8395-3e2f50880d53"
      },
      "execution_count": null,
      "outputs": [
        {
          "output_type": "stream",
          "name": "stdout",
          "text": [
            "Epoch: 01 | Epoch Time: 0m 10s\n",
            "\tTrain Loss: 2.097 | Train Acc: 25.33%\n",
            "\t Val. Loss: 1.690 |  Val. Acc: 51.43%\n",
            "Epoch: 02 | Epoch Time: 0m 8s\n",
            "\tTrain Loss: 1.982 | Train Acc: 28.14%\n",
            "\t Val. Loss: 2.309 |  Val. Acc: 21.21%\n",
            "Epoch: 03 | Epoch Time: 0m 8s\n",
            "\tTrain Loss: 2.454 | Train Acc: 10.60%\n",
            "\t Val. Loss: 2.321 |  Val. Acc: 13.57%\n",
            "Epoch: 04 | Epoch Time: 0m 8s\n",
            "\tTrain Loss: 2.395 | Train Acc: 10.34%\n",
            "\t Val. Loss: 2.284 |  Val. Acc: 21.21%\n",
            "Epoch: 05 | Epoch Time: 0m 7s\n",
            "\tTrain Loss: 2.324 | Train Acc: 11.86%\n",
            "\t Val. Loss: 2.188 |  Val. Acc: 22.26%\n",
            "Epoch: 06 | Epoch Time: 0m 8s\n",
            "\tTrain Loss: 2.231 | Train Acc: 15.28%\n",
            "\t Val. Loss: 2.034 |  Val. Acc: 30.88%\n",
            "Epoch: 07 | Epoch Time: 0m 9s\n",
            "\tTrain Loss: 2.054 | Train Acc: 21.61%\n",
            "\t Val. Loss: 1.791 |  Val. Acc: 38.51%\n",
            "Epoch: 08 | Epoch Time: 0m 7s\n",
            "\tTrain Loss: 2.051 | Train Acc: 21.45%\n",
            "\t Val. Loss: 1.768 |  Val. Acc: 34.86%\n",
            "Epoch: 09 | Epoch Time: 0m 8s\n",
            "\tTrain Loss: 1.997 | Train Acc: 22.72%\n",
            "\t Val. Loss: 1.945 |  Val. Acc: 30.39%\n",
            "Epoch: 10 | Epoch Time: 0m 7s\n",
            "\tTrain Loss: 1.934 | Train Acc: 26.33%\n",
            "\t Val. Loss: 1.669 |  Val. Acc: 43.06%\n",
            "Epoch: 11 | Epoch Time: 0m 8s\n",
            "\tTrain Loss: 1.784 | Train Acc: 30.13%\n",
            "\t Val. Loss: 1.707 |  Val. Acc: 40.79%\n",
            "Epoch: 12 | Epoch Time: 0m 8s\n",
            "\tTrain Loss: 1.731 | Train Acc: 32.14%\n",
            "\t Val. Loss: 1.643 |  Val. Acc: 49.81%\n",
            "Epoch: 13 | Epoch Time: 0m 7s\n",
            "\tTrain Loss: 1.766 | Train Acc: 30.78%\n",
            "\t Val. Loss: 1.750 |  Val. Acc: 42.58%\n",
            "Epoch: 14 | Epoch Time: 0m 8s\n",
            "\tTrain Loss: 1.707 | Train Acc: 33.44%\n",
            "\t Val. Loss: 1.573 |  Val. Acc: 51.11%\n",
            "Epoch: 15 | Epoch Time: 0m 8s\n",
            "\tTrain Loss: 1.646 | Train Acc: 36.80%\n",
            "\t Val. Loss: 1.519 |  Val. Acc: 53.79%\n",
            "Epoch: 16 | Epoch Time: 0m 7s\n",
            "\tTrain Loss: 1.581 | Train Acc: 38.19%\n",
            "\t Val. Loss: 1.445 |  Val. Acc: 59.96%\n",
            "Epoch: 17 | Epoch Time: 0m 9s\n",
            "\tTrain Loss: 1.561 | Train Acc: 39.39%\n",
            "\t Val. Loss: 1.447 |  Val. Acc: 56.79%\n",
            "Epoch: 18 | Epoch Time: 0m 9s\n",
            "\tTrain Loss: 1.443 | Train Acc: 44.82%\n",
            "\t Val. Loss: 1.506 |  Val. Acc: 55.17%\n",
            "Epoch: 19 | Epoch Time: 0m 8s\n",
            "\tTrain Loss: 2.138 | Train Acc: 19.78%\n",
            "\t Val. Loss: 2.021 |  Val. Acc: 30.79%\n",
            "Epoch: 20 | Epoch Time: 0m 8s\n",
            "\tTrain Loss: 2.057 | Train Acc: 21.05%\n",
            "\t Val. Loss: 1.793 |  Val. Acc: 37.70%\n",
            "Epoch: 21 | Epoch Time: 0m 8s\n",
            "\tTrain Loss: 1.805 | Train Acc: 29.65%\n",
            "\t Val. Loss: 1.570 |  Val. Acc: 48.34%\n",
            "Epoch: 22 | Epoch Time: 0m 9s\n",
            "\tTrain Loss: 1.602 | Train Acc: 36.10%\n",
            "\t Val. Loss: 1.421 |  Val. Acc: 58.83%\n",
            "Epoch: 23 | Epoch Time: 0m 9s\n",
            "\tTrain Loss: 1.836 | Train Acc: 27.97%\n",
            "\t Val. Loss: 1.697 |  Val. Acc: 45.17%\n",
            "Epoch: 24 | Epoch Time: 0m 8s\n",
            "\tTrain Loss: 1.697 | Train Acc: 33.24%\n",
            "\t Val. Loss: 1.545 |  Val. Acc: 53.22%\n",
            "Epoch: 25 | Epoch Time: 0m 9s\n",
            "\tTrain Loss: 1.544 | Train Acc: 38.90%\n",
            "\t Val. Loss: 1.457 |  Val. Acc: 56.39%\n",
            "Epoch: 26 | Epoch Time: 0m 9s\n",
            "\tTrain Loss: 1.505 | Train Acc: 40.06%\n",
            "\t Val. Loss: 1.393 |  Val. Acc: 60.29%\n",
            "Epoch: 27 | Epoch Time: 0m 7s\n",
            "\tTrain Loss: 1.395 | Train Acc: 44.10%\n",
            "\t Val. Loss: 1.348 |  Val. Acc: 63.38%\n",
            "Epoch: 28 | Epoch Time: 0m 8s\n",
            "\tTrain Loss: 1.331 | Train Acc: 47.36%\n",
            "\t Val. Loss: 1.297 |  Val. Acc: 63.94%\n",
            "Epoch: 29 | Epoch Time: 0m 8s\n",
            "\tTrain Loss: 1.279 | Train Acc: 49.92%\n",
            "\t Val. Loss: 1.302 |  Val. Acc: 63.78%\n",
            "Epoch: 30 | Epoch Time: 0m 8s\n",
            "\tTrain Loss: 1.243 | Train Acc: 50.84%\n",
            "\t Val. Loss: 1.385 |  Val. Acc: 62.97%\n",
            "Epoch: 31 | Epoch Time: 0m 9s\n",
            "\tTrain Loss: 1.219 | Train Acc: 51.99%\n",
            "\t Val. Loss: 1.220 |  Val. Acc: 70.44%\n",
            "Epoch: 32 | Epoch Time: 0m 9s\n",
            "\tTrain Loss: 1.167 | Train Acc: 54.32%\n",
            "\t Val. Loss: 1.365 |  Val. Acc: 63.21%\n",
            "Epoch: 33 | Epoch Time: 0m 7s\n",
            "\tTrain Loss: 1.135 | Train Acc: 55.16%\n",
            "\t Val. Loss: 1.142 |  Val. Acc: 72.15%\n",
            "Epoch: 34 | Epoch Time: 0m 9s\n",
            "\tTrain Loss: 1.085 | Train Acc: 56.54%\n",
            "\t Val. Loss: 1.190 |  Val. Acc: 71.01%\n",
            "Epoch: 35 | Epoch Time: 0m 9s\n",
            "\tTrain Loss: 1.055 | Train Acc: 57.69%\n",
            "\t Val. Loss: 1.119 |  Val. Acc: 76.46%\n",
            "Epoch: 36 | Epoch Time: 0m 8s\n",
            "\tTrain Loss: 1.588 | Train Acc: 39.80%\n",
            "\t Val. Loss: 1.340 |  Val. Acc: 62.32%\n",
            "Epoch: 37 | Epoch Time: 0m 9s\n",
            "\tTrain Loss: 1.233 | Train Acc: 50.83%\n",
            "\t Val. Loss: 1.299 |  Val. Acc: 65.65%\n",
            "Epoch: 38 | Epoch Time: 0m 9s\n",
            "\tTrain Loss: 1.160 | Train Acc: 54.36%\n",
            "\t Val. Loss: 1.237 |  Val. Acc: 70.28%\n",
            "Epoch: 39 | Epoch Time: 0m 8s\n",
            "\tTrain Loss: 1.087 | Train Acc: 56.64%\n",
            "\t Val. Loss: 1.232 |  Val. Acc: 70.44%\n",
            "Epoch: 40 | Epoch Time: 0m 8s\n",
            "\tTrain Loss: 1.060 | Train Acc: 56.52%\n",
            "\t Val. Loss: 1.167 |  Val. Acc: 73.21%\n",
            "Epoch: 41 | Epoch Time: 0m 8s\n",
            "\tTrain Loss: 1.130 | Train Acc: 57.63%\n",
            "\t Val. Loss: 1.161 |  Val. Acc: 72.72%\n",
            "Epoch: 42 | Epoch Time: 0m 8s\n",
            "\tTrain Loss: 1.017 | Train Acc: 59.53%\n",
            "\t Val. Loss: 1.116 |  Val. Acc: 76.38%\n",
            "Epoch: 43 | Epoch Time: 0m 8s\n",
            "\tTrain Loss: 0.992 | Train Acc: 59.59%\n",
            "\t Val. Loss: 1.101 |  Val. Acc: 75.73%\n",
            "Epoch: 44 | Epoch Time: 0m 7s\n",
            "\tTrain Loss: 1.052 | Train Acc: 58.84%\n",
            "\t Val. Loss: 1.154 |  Val. Acc: 75.16%\n",
            "Epoch: 45 | Epoch Time: 0m 8s\n",
            "\tTrain Loss: 1.001 | Train Acc: 59.94%\n",
            "\t Val. Loss: 1.192 |  Val. Acc: 71.91%\n",
            "Epoch: 46 | Epoch Time: 0m 9s\n",
            "\tTrain Loss: 1.375 | Train Acc: 50.21%\n",
            "\t Val. Loss: 1.358 |  Val. Acc: 64.51%\n",
            "Epoch: 47 | Epoch Time: 0m 8s\n",
            "\tTrain Loss: 1.119 | Train Acc: 56.69%\n",
            "\t Val. Loss: 1.153 |  Val. Acc: 72.80%\n",
            "Epoch: 48 | Epoch Time: 0m 9s\n",
            "\tTrain Loss: 0.969 | Train Acc: 60.98%\n",
            "\t Val. Loss: 1.113 |  Val. Acc: 78.24%\n",
            "Epoch: 49 | Epoch Time: 0m 8s\n",
            "\tTrain Loss: 0.973 | Train Acc: 62.28%\n",
            "\t Val. Loss: 1.097 |  Val. Acc: 76.70%\n",
            "Epoch: 50 | Epoch Time: 0m 7s\n",
            "\tTrain Loss: 0.888 | Train Acc: 64.68%\n",
            "\t Val. Loss: 1.094 |  Val. Acc: 79.38%\n"
          ]
        }
      ]
    },
    {
      "cell_type": "code",
      "source": [
        "test_loss, test_acc = evaluate(model, test_iter, criterion)\n",
        "\n",
        "print(f'Test Loss: {test_loss:.3f} | Test Acc: {test_acc*100:.2f}%')"
      ],
      "metadata": {
        "colab": {
          "base_uri": "https://localhost:8080/"
        },
        "id": "5-Z-Ols0cbiL",
        "outputId": "623b47cd-cab3-4a91-8f56-e2230d83cbce"
      },
      "execution_count": null,
      "outputs": [
        {
          "output_type": "stream",
          "name": "stdout",
          "text": [
            "Test Loss: 1.078 | Test Acc: 80.12%\n"
          ]
        }
      ]
    }
  ]
}