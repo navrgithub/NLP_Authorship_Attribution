{
  "cells": [
    {
      "cell_type": "markdown",
      "metadata": {
        "id": "view-in-github",
        "colab_type": "text"
      },
      "source": [
        "<a href=\"https://colab.research.google.com/github/navrgithub/NLP_Authorship_Attribution/blob/main/CNN_task1.ipynb\" target=\"_parent\"><img src=\"https://colab.research.google.com/assets/colab-badge.svg\" alt=\"Open In Colab\"/></a>"
      ]
    },
    {
      "cell_type": "code",
      "execution_count": null,
      "metadata": {
        "colab": {
          "base_uri": "https://localhost:8080/"
        },
        "id": "QvSFBhiBxHky",
        "outputId": "057d1faa-868e-45c7-8248-07a46a596000"
      },
      "outputs": [
        {
          "output_type": "stream",
          "name": "stdout",
          "text": [
            "Mounted at /content/drive\n"
          ]
        }
      ],
      "source": [
        "from google.colab import drive\n",
        "drive.mount('/content/drive')"
      ]
    },
    {
      "cell_type": "code",
      "source": [
        "import os\n",
        "os.getcwd()"
      ],
      "metadata": {
        "colab": {
          "base_uri": "https://localhost:8080/",
          "height": 36
        },
        "id": "TUToFr9shwth",
        "outputId": "1ab70eb5-397c-4fef-c54d-a1e196cbc4bc"
      },
      "execution_count": null,
      "outputs": [
        {
          "output_type": "execute_result",
          "data": {
            "text/plain": [
              "'/content'"
            ],
            "application/vnd.google.colaboratory.intrinsic+json": {
              "type": "string"
            }
          },
          "metadata": {},
          "execution_count": 2
        }
      ]
    },
    {
      "cell_type": "code",
      "source": [
        "os.chdir('/content/drive/MyDrive/Colab Notebooks/NLP group project/data')"
      ],
      "metadata": {
        "id": "qV-sQ0G3hzWV"
      },
      "execution_count": null,
      "outputs": []
    },
    {
      "cell_type": "code",
      "execution_count": null,
      "metadata": {
        "id": "fyPQgvyr-OfJ"
      },
      "outputs": [],
      "source": [
        "import csv\n",
        "import pandas as pd \n",
        "from tensorflow.keras.preprocessing.text import Tokenizer\n",
        "from tensorflow.keras.preprocessing.sequence import pad_sequences\n",
        "import sklearn\n",
        "from sklearn.model_selection import train_test_split\n",
        "from sklearn.model_selection import train_test_split\n",
        "from sklearn import datasets\n",
        "import numpy as np\n",
        "from sklearn.metrics import accuracy_score, confusion_matrix\n",
        "import torch.nn as nn"
      ]
    },
    {
      "cell_type": "code",
      "execution_count": null,
      "metadata": {
        "colab": {
          "base_uri": "https://localhost:8080/"
        },
        "id": "odkUNjbxjJhV",
        "outputId": "c5ac3ddd-652f-42e0-a89e-77b974011acf"
      },
      "outputs": [
        {
          "output_type": "stream",
          "name": "stdout",
          "text": [
            "                                                      T1  \\\n",
            "0      turkey and russia announce ceasefire in northw...   \n",
            "1      latest headlines on cnn business tl;dr the fed...   \n",
            "2      explore chernobyl's exclusion zone in 360â° (...   \n",
            "3      china and japan's budding relationship in the ...   \n",
            "4      a state-by-state breakdown of us coronavirus c...   \n",
            "...                                                  ...   \n",
            "11545  Fly in a WWI fighter plane red hook, new york ...   \n",
            "11546  China coronavirus: Eating wild animals made il...   \n",
            "11547  Is DNA the key to protecting Earth's tallest s...   \n",
            "11548  The 30 most troubling lines from Donald Trump'...   \n",
            "11549  Explore Chernobyl's exclusion zone in 360Â° ch...   \n",
            "\n",
            "                                                      T2  Same_OR_Not  \n",
            "0      no one can protect these syrian kids from the ...            1  \n",
            "1      coronavirus threat to tokyo 2020 is 'heartbrea...            1  \n",
            "2      ski at austria's soelden resort on saturday, t...            1  \n",
            "3      will warmer weather help fight the coronavirus...            1  \n",
            "4      tv shows to help you find your happy place rig...            1  \n",
            "...                                                  ...          ...  \n",
            "11545  Fact check: Donald Trump made 115 false claims...            1  \n",
            "11546  China coronavirus: Eating wild animals made il...            1  \n",
            "11547  Big Tech's honeymoon with the world's second-l...            1  \n",
            "11548  Coronavirus disinformation creates challenges ...            1  \n",
            "11549  From east Paris to world fame -- how imaginati...            1  \n",
            "\n",
            "[11550 rows x 3 columns]\n"
          ]
        }
      ],
      "source": [
        "import pandas as pd\n",
        "df_nw= pd.read_csv(\"final_task1_data.csv\")\n",
        "print(df_nw)"
      ]
    },
    {
      "cell_type": "code",
      "execution_count": null,
      "metadata": {
        "id": "9wiqZOXhPC5q"
      },
      "outputs": [],
      "source": [
        "df = df_nw"
      ]
    },
    {
      "cell_type": "code",
      "execution_count": null,
      "metadata": {
        "id": "W8R5REtsP_aO"
      },
      "outputs": [],
      "source": [
        "import pandas as pd\n",
        "\n",
        "# combine the two columns into one by appending them\n",
        "df['text'] = df['T1'] + ' ' + df['T2']\n",
        "df = df.drop('T1', axis=1)\n",
        "df = df.drop('T2', axis=1)\n",
        "df = df.rename(columns={'Same_OR_Not': 'label'})\n"
      ]
    },
    {
      "cell_type": "code",
      "execution_count": null,
      "metadata": {
        "id": "RGj53Qvb4n5m"
      },
      "outputs": [],
      "source": [
        "import pandas as pd\n",
        "from sklearn.feature_extraction.text import CountVectorizer\n",
        "\n",
        "# create a sample dataframe\n",
        "# data = {'id': [1, 2, 3],\n",
        "#         'text': ['This is the first paragraph', 'This is the second paragraph', 'This is the third paragraph']}\n",
        "# df = pd.DataFrame(data)\n",
        "\n",
        "# initialize the CountVectorizer object\n",
        "cv = CountVectorizer()\n",
        "\n",
        "# fit and transform the text data\n",
        "text_counts = cv.fit_transform(df_nw['text'])\n",
        "\n",
        "# convert the text_counts to a pandas dataframe\n",
        "\n"
      ]
    },
    {
      "cell_type": "code",
      "execution_count": null,
      "metadata": {
        "id": "Hpfs9Ifn4oGu"
      },
      "outputs": [],
      "source": [
        "# result = df_nw\n",
        "result = df"
      ]
    },
    {
      "cell_type": "code",
      "execution_count": null,
      "metadata": {
        "id": "HqXpkbSJesI4"
      },
      "outputs": [],
      "source": [
        "result['y'], _ = pd.factorize(result['label'])"
      ]
    },
    {
      "cell_type": "code",
      "execution_count": null,
      "metadata": {
        "id": "hvzGaQdzezhV"
      },
      "outputs": [],
      "source": [
        "result.drop('label', axis=1, inplace=True)"
      ]
    },
    {
      "cell_type": "code",
      "execution_count": null,
      "metadata": {
        "id": "suc2fBm0e3wc"
      },
      "outputs": [],
      "source": [
        "# Step 1: Preprocess the text data\n",
        "import nltk\n",
        "from nltk.corpus import stopwords\n",
        "from nltk.stem import WordNetLemmatizer\n",
        "import string\n",
        "\n"
      ]
    },
    {
      "cell_type": "code",
      "execution_count": null,
      "metadata": {
        "id": "RrHtqLSRfCIk",
        "colab": {
          "base_uri": "https://localhost:8080/"
        },
        "outputId": "e45d24d4-4ed5-4b73-efad-45b30c481d59"
      },
      "outputs": [
        {
          "output_type": "stream",
          "name": "stderr",
          "text": [
            "[nltk_data] Downloading package punkt to /root/nltk_data...\n",
            "[nltk_data]   Unzipping tokenizers/punkt.zip.\n",
            "[nltk_data] Downloading package stopwords to /root/nltk_data...\n",
            "[nltk_data]   Unzipping corpora/stopwords.zip.\n",
            "[nltk_data] Downloading package wordnet to /root/nltk_data...\n"
          ]
        }
      ],
      "source": [
        "import string\n",
        "import nltk\n",
        "from nltk.corpus import stopwords\n",
        "from nltk.stem import WordNetLemmatizer\n",
        "nltk.download('punkt')\n",
        "nltk.download('stopwords')\n",
        "nltk.download('wordnet')\n",
        "\n",
        "def preprocess_dataframe(df, column):\n",
        "    df[column] = df[column].str.lower() # convert text to lowercase\n",
        "    df[column] = df[column].str.translate(str.maketrans(\"\", \"\", string.punctuation)) # remove punctuation\n",
        "    stop_words = set(stopwords.words(\"english\")) # get list of stop words\n",
        "    lemmatizer = WordNetLemmatizer() # initialize lemmatizer\n",
        "    return df\n",
        "\n",
        "\n",
        "df = preprocess_dataframe(result, \"text\")\n"
      ]
    },
    {
      "cell_type": "code",
      "execution_count": null,
      "metadata": {
        "id": "9Pc1QraIgXc2",
        "colab": {
          "base_uri": "https://localhost:8080/",
          "height": 424
        },
        "outputId": "ee603432-7528-4a90-ff17-77b777a43a59"
      },
      "outputs": [
        {
          "output_type": "execute_result",
          "data": {
            "text/plain": [
              "                                                    text  y\n",
              "0      turkey and russia announce ceasefire in northw...  0\n",
              "1      latest headlines on cnn business tldr the fede...  0\n",
              "2      explore chernobyls exclusion zone in 360â° cn...  0\n",
              "3      china and japans budding relationship in the t...  0\n",
              "4      a statebystate breakdown of us coronavirus cas...  0\n",
              "...                                                  ... ..\n",
              "11545  fly in a wwi fighter plane red hook new york c...  0\n",
              "11546  china coronavirus eating wild animals made ill...  0\n",
              "11547  is dna the key to protecting earths tallest sp...  0\n",
              "11548  the 30 most troubling lines from donald trumps...  0\n",
              "11549  explore chernobyls exclusion zone in 360â° cha...  0\n",
              "\n",
              "[11550 rows x 2 columns]"
            ],
            "text/html": [
              "\n",
              "  <div id=\"df-deae9eed-ba18-4e0c-8266-c9e756618d44\">\n",
              "    <div class=\"colab-df-container\">\n",
              "      <div>\n",
              "<style scoped>\n",
              "    .dataframe tbody tr th:only-of-type {\n",
              "        vertical-align: middle;\n",
              "    }\n",
              "\n",
              "    .dataframe tbody tr th {\n",
              "        vertical-align: top;\n",
              "    }\n",
              "\n",
              "    .dataframe thead th {\n",
              "        text-align: right;\n",
              "    }\n",
              "</style>\n",
              "<table border=\"1\" class=\"dataframe\">\n",
              "  <thead>\n",
              "    <tr style=\"text-align: right;\">\n",
              "      <th></th>\n",
              "      <th>text</th>\n",
              "      <th>y</th>\n",
              "    </tr>\n",
              "  </thead>\n",
              "  <tbody>\n",
              "    <tr>\n",
              "      <th>0</th>\n",
              "      <td>turkey and russia announce ceasefire in northw...</td>\n",
              "      <td>0</td>\n",
              "    </tr>\n",
              "    <tr>\n",
              "      <th>1</th>\n",
              "      <td>latest headlines on cnn business tldr the fede...</td>\n",
              "      <td>0</td>\n",
              "    </tr>\n",
              "    <tr>\n",
              "      <th>2</th>\n",
              "      <td>explore chernobyls exclusion zone in 360â° cn...</td>\n",
              "      <td>0</td>\n",
              "    </tr>\n",
              "    <tr>\n",
              "      <th>3</th>\n",
              "      <td>china and japans budding relationship in the t...</td>\n",
              "      <td>0</td>\n",
              "    </tr>\n",
              "    <tr>\n",
              "      <th>4</th>\n",
              "      <td>a statebystate breakdown of us coronavirus cas...</td>\n",
              "      <td>0</td>\n",
              "    </tr>\n",
              "    <tr>\n",
              "      <th>...</th>\n",
              "      <td>...</td>\n",
              "      <td>...</td>\n",
              "    </tr>\n",
              "    <tr>\n",
              "      <th>11545</th>\n",
              "      <td>fly in a wwi fighter plane red hook new york c...</td>\n",
              "      <td>0</td>\n",
              "    </tr>\n",
              "    <tr>\n",
              "      <th>11546</th>\n",
              "      <td>china coronavirus eating wild animals made ill...</td>\n",
              "      <td>0</td>\n",
              "    </tr>\n",
              "    <tr>\n",
              "      <th>11547</th>\n",
              "      <td>is dna the key to protecting earths tallest sp...</td>\n",
              "      <td>0</td>\n",
              "    </tr>\n",
              "    <tr>\n",
              "      <th>11548</th>\n",
              "      <td>the 30 most troubling lines from donald trumps...</td>\n",
              "      <td>0</td>\n",
              "    </tr>\n",
              "    <tr>\n",
              "      <th>11549</th>\n",
              "      <td>explore chernobyls exclusion zone in 360â° cha...</td>\n",
              "      <td>0</td>\n",
              "    </tr>\n",
              "  </tbody>\n",
              "</table>\n",
              "<p>11550 rows × 2 columns</p>\n",
              "</div>\n",
              "      <button class=\"colab-df-convert\" onclick=\"convertToInteractive('df-deae9eed-ba18-4e0c-8266-c9e756618d44')\"\n",
              "              title=\"Convert this dataframe to an interactive table.\"\n",
              "              style=\"display:none;\">\n",
              "        \n",
              "  <svg xmlns=\"http://www.w3.org/2000/svg\" height=\"24px\"viewBox=\"0 0 24 24\"\n",
              "       width=\"24px\">\n",
              "    <path d=\"M0 0h24v24H0V0z\" fill=\"none\"/>\n",
              "    <path d=\"M18.56 5.44l.94 2.06.94-2.06 2.06-.94-2.06-.94-.94-2.06-.94 2.06-2.06.94zm-11 1L8.5 8.5l.94-2.06 2.06-.94-2.06-.94L8.5 2.5l-.94 2.06-2.06.94zm10 10l.94 2.06.94-2.06 2.06-.94-2.06-.94-.94-2.06-.94 2.06-2.06.94z\"/><path d=\"M17.41 7.96l-1.37-1.37c-.4-.4-.92-.59-1.43-.59-.52 0-1.04.2-1.43.59L10.3 9.45l-7.72 7.72c-.78.78-.78 2.05 0 2.83L4 21.41c.39.39.9.59 1.41.59.51 0 1.02-.2 1.41-.59l7.78-7.78 2.81-2.81c.8-.78.8-2.07 0-2.86zM5.41 20L4 18.59l7.72-7.72 1.47 1.35L5.41 20z\"/>\n",
              "  </svg>\n",
              "      </button>\n",
              "      \n",
              "  <style>\n",
              "    .colab-df-container {\n",
              "      display:flex;\n",
              "      flex-wrap:wrap;\n",
              "      gap: 12px;\n",
              "    }\n",
              "\n",
              "    .colab-df-convert {\n",
              "      background-color: #E8F0FE;\n",
              "      border: none;\n",
              "      border-radius: 50%;\n",
              "      cursor: pointer;\n",
              "      display: none;\n",
              "      fill: #1967D2;\n",
              "      height: 32px;\n",
              "      padding: 0 0 0 0;\n",
              "      width: 32px;\n",
              "    }\n",
              "\n",
              "    .colab-df-convert:hover {\n",
              "      background-color: #E2EBFA;\n",
              "      box-shadow: 0px 1px 2px rgba(60, 64, 67, 0.3), 0px 1px 3px 1px rgba(60, 64, 67, 0.15);\n",
              "      fill: #174EA6;\n",
              "    }\n",
              "\n",
              "    [theme=dark] .colab-df-convert {\n",
              "      background-color: #3B4455;\n",
              "      fill: #D2E3FC;\n",
              "    }\n",
              "\n",
              "    [theme=dark] .colab-df-convert:hover {\n",
              "      background-color: #434B5C;\n",
              "      box-shadow: 0px 1px 3px 1px rgba(0, 0, 0, 0.15);\n",
              "      filter: drop-shadow(0px 1px 2px rgba(0, 0, 0, 0.3));\n",
              "      fill: #FFFFFF;\n",
              "    }\n",
              "  </style>\n",
              "\n",
              "      <script>\n",
              "        const buttonEl =\n",
              "          document.querySelector('#df-deae9eed-ba18-4e0c-8266-c9e756618d44 button.colab-df-convert');\n",
              "        buttonEl.style.display =\n",
              "          google.colab.kernel.accessAllowed ? 'block' : 'none';\n",
              "\n",
              "        async function convertToInteractive(key) {\n",
              "          const element = document.querySelector('#df-deae9eed-ba18-4e0c-8266-c9e756618d44');\n",
              "          const dataTable =\n",
              "            await google.colab.kernel.invokeFunction('convertToInteractive',\n",
              "                                                     [key], {});\n",
              "          if (!dataTable) return;\n",
              "\n",
              "          const docLinkHtml = 'Like what you see? Visit the ' +\n",
              "            '<a target=\"_blank\" href=https://colab.research.google.com/notebooks/data_table.ipynb>data table notebook</a>'\n",
              "            + ' to learn more about interactive tables.';\n",
              "          element.innerHTML = '';\n",
              "          dataTable['output_type'] = 'display_data';\n",
              "          await google.colab.output.renderOutput(dataTable, element);\n",
              "          const docLink = document.createElement('div');\n",
              "          docLink.innerHTML = docLinkHtml;\n",
              "          element.appendChild(docLink);\n",
              "        }\n",
              "      </script>\n",
              "    </div>\n",
              "  </div>\n",
              "  "
            ]
          },
          "metadata": {},
          "execution_count": 29
        }
      ],
      "source": [
        "df"
      ]
    },
    {
      "cell_type": "code",
      "execution_count": null,
      "metadata": {
        "id": "vBBiIukOfMHZ"
      },
      "outputs": [],
      "source": [
        "# Step 2: Split the data into training and testing sets\n",
        "from sklearn.model_selection import train_test_split\n",
        "df=df.dropna()\n",
        "X = df['text'] # text data\n",
        "\n",
        "y = df['y'] # label data\n",
        "X_train, X_test, y_train, y_test = train_test_split(X, y, test_size=0.2, random_state=42, shuffle=True)\n",
        "\n",
        "# Step 3: Vectorize the text data\n",
        "from sklearn.feature_extraction.text import TfidfVectorizer\n",
        "\n",
        "vectorizer = TfidfVectorizer()\n",
        "X_train_vectorized = vectorizer.fit_transform(X_train)\n",
        "X_test_vectorized = vectorizer.transform(X_test)"
      ]
    },
    {
      "cell_type": "code",
      "execution_count": null,
      "metadata": {
        "id": "TQ3BNEOwg5XE",
        "colab": {
          "base_uri": "https://localhost:8080/"
        },
        "outputId": "dbff1df0-8739-44af-f873-bcdd3a4d1e5a"
      },
      "outputs": [
        {
          "output_type": "execute_result",
          "data": {
            "text/plain": [
              "<2310x24849 sparse matrix of type '<class 'numpy.float64'>'\n",
              "\twith 929332 stored elements in Compressed Sparse Row format>"
            ]
          },
          "metadata": {},
          "execution_count": 31
        }
      ],
      "source": [
        "X_test_vectorized"
      ]
    },
    {
      "cell_type": "code",
      "execution_count": null,
      "metadata": {
        "id": "_XUgw4X5io6u",
        "colab": {
          "base_uri": "https://localhost:8080/"
        },
        "outputId": "f9b0aa9f-9fef-497e-877a-9b4cd5a6e598"
      },
      "outputs": [
        {
          "output_type": "stream",
          "name": "stdout",
          "text": [
            "  (0, 6964)\t0.0786406597187591\n",
            "  (0, 2812)\t0.021414028241350566\n",
            "  (0, 5231)\t0.05858375333243995\n",
            "  (0, 8214)\t0.06918847952654436\n",
            "  (0, 14222)\t0.11485634245155701\n",
            "  (0, 7462)\t0.013007388372027676\n",
            "  (0, 20969)\t0.046166145751029224\n",
            "  (0, 7135)\t0.05872077195937421\n",
            "  (0, 3563)\t0.04823545664077269\n",
            "  (0, 23073)\t0.08722860657745717\n",
            "  (0, 17671)\t0.0192130459474856\n",
            "  (0, 17813)\t0.05305407235675583\n",
            "  (0, 20071)\t0.029396567380838557\n",
            "  (0, 11628)\t0.04361430328872858\n",
            "  (0, 23412)\t0.036356133440787225\n",
            "  (0, 22999)\t0.04361430328872858\n",
            "  (0, 15220)\t0.03775390238427609\n",
            "  (0, 19259)\t0.04006760747793917\n",
            "  (0, 2827)\t0.028683271740715565\n",
            "  (0, 18190)\t0.05928913904599927\n",
            "  (0, 11711)\t0.029492159878268687\n",
            "  (0, 11971)\t0.06897466031559935\n",
            "  (0, 17673)\t0.02541843669559465\n",
            "  (0, 16048)\t0.048384847425169464\n",
            "  (0, 21951)\t0.0974033665636831\n",
            "  :\t:\n",
            "  (9239, 8939)\t0.07488916476930166\n",
            "  (9239, 22097)\t0.012269587901558748\n",
            "  (9239, 16134)\t0.010322850328985245\n",
            "  (9239, 17106)\t0.10230454261258379\n",
            "  (9239, 2050)\t0.013474039722719848\n",
            "  (9239, 24306)\t0.015025261391080125\n",
            "  (9239, 20993)\t0.06454042544408115\n",
            "  (9239, 12256)\t0.017582124029455488\n",
            "  (9239, 2338)\t0.01752162062376289\n",
            "  (9239, 9319)\t0.014779677993398986\n",
            "  (9239, 4445)\t0.008188847702239451\n",
            "  (9239, 12233)\t0.007601203056585477\n",
            "  (9239, 22001)\t0.037069522307972266\n",
            "  (9239, 4466)\t0.03150565250819914\n",
            "  (9239, 10563)\t0.01621529920555972\n",
            "  (9239, 2918)\t0.023190925766471564\n",
            "  (9239, 15795)\t0.07781753199764568\n",
            "  (9239, 22013)\t0.2459721714903406\n",
            "  (9239, 22343)\t0.12012038336813614\n",
            "  (9239, 22033)\t0.009646001696304148\n",
            "  (9239, 11614)\t0.08495618533012043\n",
            "  (9239, 10589)\t0.016440659724217058\n",
            "  (9239, 10898)\t0.010409778122171644\n",
            "  (9239, 2478)\t0.08475416370732547\n",
            "  (9239, 17406)\t0.015290452819600325\n"
          ]
        }
      ],
      "source": [
        "print(X_train_vectorized)"
      ]
    },
    {
      "cell_type": "code",
      "execution_count": null,
      "metadata": {
        "id": "fCiAP31Xhl5a",
        "colab": {
          "base_uri": "https://localhost:8080/"
        },
        "outputId": "737cb269-0f19-45f2-c5cf-6c80b23efe2f"
      },
      "outputs": [
        {
          "output_type": "execute_result",
          "data": {
            "text/plain": [
              "<9240x24849 sparse matrix of type '<class 'numpy.float64'>'\n",
              "\twith 3764980 stored elements in Compressed Sparse Row format>"
            ]
          },
          "metadata": {},
          "execution_count": 33
        }
      ],
      "source": [
        "X_train_vectorized"
      ]
    },
    {
      "cell_type": "code",
      "execution_count": null,
      "metadata": {
        "id": "v1OLhDxOhqk8",
        "colab": {
          "base_uri": "https://localhost:8080/"
        },
        "outputId": "f8231f31-ef6a-41f0-c922-5abfe3e36faa"
      },
      "outputs": [
        {
          "output_type": "stream",
          "name": "stdout",
          "text": [
            "Accuracy: 0.5025974025974026\n",
            "Precision: 0.49808049535603716\n",
            "Recall: 0.49813626460834126\n",
            "F1-score: 0.49606516584325866\n",
            "Confusion matrix:\n",
            " [[712 501]\n",
            " [648 449]]\n"
          ]
        }
      ],
      "source": [
        "from sklearn.linear_model import LogisticRegression\n",
        "\n",
        "model = LogisticRegression()\n",
        "model.fit(X_train_vectorized, y_train)\n",
        "\n",
        "# Step 5: Evaluate the model\n",
        "from sklearn.metrics import accuracy_score, precision_score, recall_score, f1_score, confusion_matrix\n",
        "\n",
        "y_pred = model.predict(X_test_vectorized)\n",
        "accuracy = accuracy_score(y_test, y_pred)\n",
        "precision = precision_score(y_test, y_pred, average='macro')\n",
        "recall = recall_score(y_test, y_pred, average='macro')\n",
        "f1 = f1_score(y_test, y_pred, average='macro')\n",
        "confusion_mat = confusion_matrix(y_test, y_pred)\n",
        "print(\"Accuracy:\", accuracy)\n",
        "print(\"Precision:\", precision)\n",
        "print(\"Recall:\", recall)\n",
        "print(\"F1-score:\", f1)\n",
        "print(\"Confusion matrix:\\n\", confusion_mat)\n",
        "\n"
      ]
    },
    {
      "cell_type": "markdown",
      "metadata": {
        "id": "ZVnkBOe1nuzV"
      },
      "source": [
        "DEEp Learning model"
      ]
    },
    {
      "cell_type": "code",
      "execution_count": null,
      "metadata": {
        "id": "tHNf7FONkj_k"
      },
      "outputs": [],
      "source": [
        "import torch\n",
        "import torch.nn as nn\n",
        "import torch.optim as optim\n",
        "from torch.utils.data import TensorDataset, DataLoader\n",
        "from sklearn.model_selection import train_test_split\n",
        "from sklearn.metrics import accuracy_score\n",
        "\n",
        "X = df['text'].values # text data\n",
        "\n",
        "y = df['y'].values # label data\n",
        "X = vectorizer.fit_transform(X)\n",
        "\n",
        "# Split data into train and test sets\n",
        "X_train, X_test, y_train, y_test = train_test_split(X, y, test_size=0.2, random_state=42)\n",
        "\n",
        "# Convert data to PyTorch tensors\n",
        "X_train_tensor = torch.Tensor(X_train.toarray())\n",
        "X_test_tensor = torch.Tensor(X_test.toarray())\n",
        "y_train_tensor = torch.Tensor(y_train).long()\n",
        "y_test_tensor = torch.Tensor(y_test).long()\n"
      ]
    },
    {
      "cell_type": "code",
      "execution_count": null,
      "metadata": {
        "id": "YS4sxp0LwQSi"
      },
      "outputs": [],
      "source": [
        "# Create PyTorch datasets and dataloaders\n",
        "train_dataset = TensorDataset(X_train_tensor, y_train_tensor)\n",
        "test_dataset = TensorDataset(X_test_tensor, y_test_tensor)\n",
        "train_loader = DataLoader(train_dataset, batch_size=32, shuffle=True)\n",
        "test_loader = DataLoader(test_dataset, batch_size=32, shuffle=True)\n",
        "\n"
      ]
    },
    {
      "cell_type": "code",
      "execution_count": null,
      "metadata": {
        "id": "QJrFklYlNqyT",
        "colab": {
          "base_uri": "https://localhost:8080/"
        },
        "outputId": "067999ab-29c9-402e-a312-d71edd2c3644"
      },
      "outputs": [
        {
          "output_type": "execute_result",
          "data": {
            "text/plain": [
              "24849"
            ]
          },
          "metadata": {},
          "execution_count": 37
        }
      ],
      "source": [
        "X_train_tensor.shape[1]"
      ]
    },
    {
      "cell_type": "code",
      "execution_count": null,
      "metadata": {
        "id": "kz-yxJZ1NrLJ"
      },
      "outputs": [],
      "source": [
        "# # Define model architecture\n",
        "\n",
        "\n",
        "# Define model architecture\n",
        "class TextClassifier(nn.Module):\n",
        "    def __init__(self, num_classes):\n",
        "        super(TextClassifier, self).__init__()\n",
        "        self.fc1 = nn.Linear(X_train_tensor.shape[1], 512)\n",
        "        self.ReLU = nn.ReLU()\n",
        "        self.fc2 = nn.Linear(512,256)\n",
        "        # self.dropout = nn.Dropout(p=0.5)\n",
        "        self.fc3 = nn.Linear(256,128)\n",
        "        self.fc4 = nn.Linear(128,64)\n",
        "        # self.dropout = nn.Dropout(p=0.5)\n",
        "        self.fc5 = nn.Linear(64,32)\n",
        "        self.fc6 = nn.Linear(32,16)\n",
        "        # self.dropout = nn.Dropout(p=0.5)\n",
        "        self.fc7 = nn.Linear(16, num_classes)\n",
        "        self.Softmax = nn.Softmax(dim=1)\n",
        "        \n",
        "\n",
        "    def forward(self, x):\n",
        "        x = self.fc1(x)\n",
        "        x = self.ReLU(x)\n",
        "        x = self.fc2(x)\n",
        "        # x = self.dropout(x)\n",
        "        x = self.fc3(x)\n",
        "        x = self.fc4(x)\n",
        "        # x = self.dropout(x)\n",
        "        x = self.fc5(x)\n",
        "        x = self.fc6(x)\n",
        "        # x = self.dropout(x)\n",
        "        x = self.fc7(x)\n",
        "        x= self.Softmax(x)\n",
        "        return x\n"
      ]
    },
    {
      "cell_type": "code",
      "execution_count": null,
      "metadata": {
        "id": "WhyptP_awQh9"
      },
      "outputs": [],
      "source": [
        "# Create model, loss function, and optimizer\n",
        "model = TextClassifier(num_classes=10)\n",
        "# loss_function = nn.CrossEntropyLoss()\n",
        "# optimizer = optim.SGD(model.parameters(), lr=0.1)\n",
        "\n",
        "loss_function = nn.CrossEntropyLoss(reduction='mean')\n",
        "optimizer = torch.optim.SGD(model.parameters(), lr = 0.01)\n"
      ]
    },
    {
      "cell_type": "code",
      "execution_count": null,
      "metadata": {
        "id": "qeprNZiuw8Iu",
        "colab": {
          "base_uri": "https://localhost:8080/"
        },
        "outputId": "9b18b859-0216-472c-841f-ecc7b91df401"
      },
      "outputs": [
        {
          "output_type": "stream",
          "name": "stdout",
          "text": [
            "Epoch: 1, Train Loss: 2.2890, Val Loss: 2.2764\n",
            "Epoch: 2, Train Loss: 2.2606, Val Loss: 2.2422\n",
            "Epoch: 3, Train Loss: 2.2154, Val Loss: 2.1811\n",
            "Epoch: 4, Train Loss: 2.1226, Val Loss: 2.0483\n",
            "Epoch: 5, Train Loss: 1.9877, Val Loss: 1.9516\n"
          ]
        }
      ],
      "source": [
        "epochs = 5\n",
        "l1=[]\n",
        "l2=[]\n",
        "running_lossy = 0.\n",
        "for epoch in range(epochs):\n",
        "  running_loss = 0.\n",
        "\n",
        "  for data in train_loader:\n",
        "    inputs, outputs = data\n",
        "    optimizer.zero_grad()\n",
        "\n",
        "    predictions = model.forward(inputs) \n",
        "    loss = loss_function(predictions.squeeze(), outputs)\n",
        "    loss.backward()\n",
        "    optimizer.step()\n",
        "\n",
        "    running_loss += loss.item()\n",
        "    train_loss = running_loss / len(train_loader)\n",
        "  l1.append(running_loss / len(train_loader))\n",
        "  \n",
        "  running_loss = 0.\n",
        "  with torch.no_grad():\n",
        "    for data in test_loader:\n",
        "      inputs, outputs = data\n",
        "      predictions = model.forward(inputs)\n",
        "      loss = loss_function(predictions.squeeze(), outputs)\n",
        "      running_loss += loss.item()\n",
        "      val_loss = running_loss / len(test_loader)\n",
        "  l2.append(val_loss)\n",
        "\n",
        "  print(f'Epoch: {epoch+1}, Train Loss: {train_loss:.4f}, Val Loss: {val_loss:.4f}')"
      ]
    },
    {
      "cell_type": "code",
      "execution_count": null,
      "metadata": {
        "id": "Dzl1TDQrx5Xx",
        "colab": {
          "base_uri": "https://localhost:8080/",
          "height": 489
        },
        "outputId": "f6187294-0d10-4ed4-ca5b-1b46ae94b334"
      },
      "outputs": [
        {
          "output_type": "execute_result",
          "data": {
            "text/plain": [
              "<matplotlib.legend.Legend at 0x7fa87e145f00>"
            ]
          },
          "metadata": {},
          "execution_count": 41
        },
        {
          "output_type": "display_data",
          "data": {
            "text/plain": [
              "<Figure size 640x480 with 1 Axes>"
            ],
            "image/png": "[encoded data removed]"
          },
          "metadata": {}
        }
      ],
      "source": [
        "\n",
        "import matplotlib.pyplot as plt\n",
        "\n",
        "plt.plot(np.arange(epochs),l1 , label = \"train_loss\")\n",
        "plt.plot(np.arange(epochs),l2 , label = \"Val_Loss\")\n",
        "\n",
        "plt.xlabel(\"Epochs\")\n",
        "plt.ylabel(\"Loss\")\n",
        "plt.title(\"Loss Curve\")\n",
        "plt.legend()"
      ]
    },
    {
      "cell_type": "code",
      "execution_count": null,
      "metadata": {
        "id": "ZBXx1LVV9FZV"
      },
      "outputs": [],
      "source": [
        "device = torch.device(\"cuda\" if torch.cuda.is_available() else \"cpu\")"
      ]
    },
    {
      "cell_type": "code",
      "execution_count": null,
      "metadata": {
        "id": "BCvnC3uNwwbC"
      },
      "outputs": [],
      "source": [
        "predictions = []\n",
        "with torch.no_grad():\n",
        "  for inputs, labels in test_loader:\n",
        "    inputs, labels = inputs.to(device), labels.to(device)\n",
        "    model = model.to(device)\n",
        "    output = model(inputs)\n",
        "    _, pred = torch.max(output.data, 1)\n",
        "    predictions.extend(pred.cpu().numpy().tolist())\n",
        "test_accuracy = accuracy_score(y_test.flatten(), predictions)"
      ]
    },
    {
      "cell_type": "code",
      "execution_count": null,
      "metadata": {
        "id": "pmVkZUL28zAV",
        "colab": {
          "base_uri": "https://localhost:8080/"
        },
        "outputId": "60555f4b-a110-463b-be19-bba3020ddad9"
      },
      "outputs": [
        {
          "output_type": "stream",
          "name": "stdout",
          "text": [
            "Testing Accuracy: 78.63636%\n"
          ]
        }
      ],
      "source": [
        "batch_size = 32\n",
        "num_sample = len(y_test) / 9\n",
        "num_samples = len(y_test) \n",
        "num_batches = num_samples // batch_size\n",
        "correct_predictions = 0\n",
        "\n",
        "with torch.no_grad():\n",
        "    for i in range(num_batches):\n",
        "        batch_start = i * batch_size\n",
        "        batch_end = (i + 1) * batch_size\n",
        "        X_batch = torch.tensor(X_test[batch_start:batch_end].toarray(), dtype=torch.float32).to(device)\n",
        "        y_batch = torch.tensor(y_test[batch_start:batch_end]).to(device)\n",
        "        predictions = model(X_batch)\n",
        "        # Get the index of the predicted class with the highest probability\n",
        "        _, predicted = torch.max(predictions, 1)\n",
        "        # Count the number of correct predictions in this batch\n",
        "        correct_predictions += (predicted == y_batch).sum().item()\n",
        "\n",
        "# Calculate the overall accuracy\n",
        "accuracy = 100 * correct_predictions / num_samples\n",
        "print('Testing Accuracy: {:.5f}%'.format(accuracy))\n"
      ]
    },
    {
      "cell_type": "code",
      "execution_count": null,
      "metadata": {
        "id": "CtJYjPLj124S",
        "colab": {
          "base_uri": "https://localhost:8080/"
        },
        "outputId": "5a3ab964-48a7-4e45-a478-03f91ed4469b"
      },
      "outputs": [
        {
          "output_type": "execute_result",
          "data": {
            "text/plain": [
              "0.7876623376623376"
            ]
          },
          "metadata": {},
          "execution_count": 51
        }
      ],
      "source": [
        "test_accuracy"
      ]
    },
    {
      "cell_type": "code",
      "execution_count": null,
      "metadata": {
        "id": "uLFEVmn72OXX"
      },
      "outputs": [],
      "source": [
        "predictions = []\n",
        "tz=[]\n",
        "# with torch.no_grad():\n",
        "for inputs, labels in test_loader:\n",
        "  inputs, labels = inputs.to(device), labels.to(device)\n",
        "  model = model.to(device)\n",
        "  output = model(inputs)\n",
        "  _, pred = torch.max(output.data, 1)\n",
        "  predictions.extend(pred.cpu().numpy().tolist())\n",
        "predictions = np.array(predictions)\n",
        "tz.append(accuracy_score(y_test.flatten(), predictions))\n"
      ]
    },
    {
      "cell_type": "code",
      "execution_count": null,
      "metadata": {
        "id": "cszy0Ths22ZO",
        "colab": {
          "base_uri": "https://localhost:8080/"
        },
        "outputId": "5f3fa799-3ce4-4fc8-a445-1836be0ab736"
      },
      "outputs": [
        {
          "output_type": "execute_result",
          "data": {
            "text/plain": [
              "{0}"
            ]
          },
          "metadata": {},
          "execution_count": 48
        }
      ],
      "source": [
        "set(predictions)"
      ]
    }
  ],
  "metadata": {
    "colab": {
      "provenance": [],
      "gpuType": "T4",
      "include_colab_link": true
    },
    "kernelspec": {
      "display_name": "Python 3",
      "name": "python3"
    },
    "language_info": {
      "name": "python"
    },
    "accelerator": "GPU",
    "gpuClass": "standard"
  },
  "nbformat": 4,
  "nbformat_minor": 0
}