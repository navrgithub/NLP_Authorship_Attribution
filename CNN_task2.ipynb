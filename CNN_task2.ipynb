{
  "cells": [
    {
      "cell_type": "markdown",
      "metadata": {
        "id": "view-in-github",
        "colab_type": "text"
      },
      "source": [
        "<a href=\"https://colab.research.google.com/github/navrgithub/NLP_Authorship_Attribution/blob/main/CNN_task2.ipynb\" target=\"_parent\"><img src=\"https://colab.research.google.com/assets/colab-badge.svg\" alt=\"Open In Colab\"/></a>"
      ]
    },
    {
      "cell_type": "code",
      "execution_count": null,
      "metadata": {
        "colab": {
          "base_uri": "https://localhost:8080/"
        },
        "id": "QvSFBhiBxHky",
        "outputId": "19c1524d-497b-4513-f31f-faa0b13db44b"
      },
      "outputs": [
        {
          "output_type": "stream",
          "name": "stdout",
          "text": [
            "Mounted at /content/drive\n"
          ]
        }
      ],
      "source": [
        "from google.colab import drive\n",
        "drive.mount('/content/drive')"
      ]
    },
    {
      "cell_type": "code",
      "source": [
        "import os\n",
        "os.getcwd()"
      ],
      "metadata": {
        "colab": {
          "base_uri": "https://localhost:8080/",
          "height": 36
        },
        "id": "TUToFr9shwth",
        "outputId": "9023c5a1-d4df-42eb-b9f3-40b84bd8a94f"
      },
      "execution_count": null,
      "outputs": [
        {
          "output_type": "execute_result",
          "data": {
            "text/plain": [
              "'/content'"
            ],
            "application/vnd.google.colaboratory.intrinsic+json": {
              "type": "string"
            }
          },
          "metadata": {},
          "execution_count": 2
        }
      ]
    },
    {
      "cell_type": "code",
      "source": [
        "os.chdir('/content/drive/MyDrive/Colab Notebooks/NLP group project/data')"
      ],
      "metadata": {
        "id": "qV-sQ0G3hzWV"
      },
      "execution_count": null,
      "outputs": []
    },
    {
      "cell_type": "code",
      "execution_count": null,
      "metadata": {
        "id": "fyPQgvyr-OfJ"
      },
      "outputs": [],
      "source": [
        "import csv\n",
        "import pandas as pd \n",
        "from tensorflow.keras.preprocessing.text import Tokenizer\n",
        "from tensorflow.keras.preprocessing.sequence import pad_sequences\n",
        "import sklearn\n",
        "from sklearn.model_selection import train_test_split\n",
        "from sklearn.model_selection import train_test_split\n",
        "from sklearn import datasets\n",
        "import numpy as np\n",
        "from sklearn.metrics import accuracy_score, confusion_matrix\n",
        "import torch.nn as nn"
      ]
    },
    {
      "cell_type": "code",
      "execution_count": null,
      "metadata": {
        "colab": {
          "base_uri": "https://localhost:8080/"
        },
        "id": "odkUNjbxjJhV",
        "outputId": "ce8edadc-5e82-4471-c042-daf374bc4900"
      },
      "outputs": [
        {
          "output_type": "stream",
          "name": "stdout",
          "text": [
            "       Unnamed: 0                                               text  label\n",
            "0               0  CMV: Fat Acceptance Tik Tokers and influencers...      0\n",
            "1               1  CMV: It makes sense to compare apples and oranges      0\n",
            "2               2  CMV: Dismissing an individual's experience bec...      0\n",
            "3               3  CMV: If pro-anorexia groups, suicide promotion...      0\n",
            "4               4  CMV: Asian Americans generally prospering in t...      0\n",
            "...           ...                                                ...    ...\n",
            "12336        1061  how much of your body is your own? if i'm not ...      1\n",
            "12337        1062  how do you keep a space station clean? the ast...      1\n",
            "12338        1063  the city where you pay a year's rent up front,...      1\n",
            "12339        1064  the bbc app gives you the best of bbc wherever...      1\n",
            "12340        1065  learn how the bbc is working to strengthen tru...      1\n",
            "\n",
            "[12341 rows x 3 columns]\n"
          ]
        }
      ],
      "source": [
        "import pandas as pd\n",
        "df_nw= pd.read_csv(\"final_task2_data.csv\")\n",
        "print(df_nw)"
      ]
    },
    {
      "cell_type": "code",
      "execution_count": null,
      "metadata": {
        "id": "9wiqZOXhPC5q"
      },
      "outputs": [],
      "source": [
        "df = df_nw"
      ]
    },
    {
      "cell_type": "code",
      "execution_count": null,
      "metadata": {
        "id": "f4jYrefHPDIY"
      },
      "outputs": [],
      "source": []
    },
    {
      "cell_type": "code",
      "execution_count": null,
      "metadata": {
        "id": "W8R5REtsP_aO",
        "colab": {
          "base_uri": "https://localhost:8080/"
        },
        "outputId": "9425c3c9-3174-40a3-f6e2-3bac4060f4ed"
      },
      "outputs": [
        {
          "output_type": "stream",
          "name": "stdout",
          "text": [
            "       Unnamed: 0                                               text  label\n",
            "0               0  CMV: Fat Acceptance Tik Tokers and influencers...      0\n",
            "1               1  CMV: It makes sense to compare apples and oranges      0\n",
            "2               2  CMV: Dismissing an individual's experience bec...      0\n",
            "3               3  CMV: If pro-anorexia groups, suicide promotion...      0\n",
            "4               4  CMV: Asian Americans generally prospering in t...      0\n",
            "...           ...                                                ...    ...\n",
            "12336        1061  how much of your body is your own? if i'm not ...      1\n",
            "12337        1062  how do you keep a space station clean? the ast...      1\n",
            "12338        1063  the city where you pay a year's rent up front,...      1\n",
            "12339        1064  the bbc app gives you the best of bbc wherever...      1\n",
            "12340        1065  learn how the bbc is working to strengthen tru...      1\n",
            "\n",
            "[12341 rows x 3 columns]\n"
          ]
        }
      ],
      "source": [
        "\n",
        "df_nw['text'].fillna('', inplace=True)\n",
        "\n",
        "import pandas as pd\n",
        "\n",
        "# Create a DataFrame\n",
        "# Rename column 'B' to 'new_name'\n",
        "df = df.rename(columns={'Generation': 'text'})\n",
        "\n",
        "print(df)\n",
        "\n"
      ]
    },
    {
      "cell_type": "code",
      "execution_count": null,
      "metadata": {
        "id": "RGj53Qvb4n5m"
      },
      "outputs": [],
      "source": [
        "import pandas as pd\n",
        "from sklearn.feature_extraction.text import CountVectorizer\n",
        "\n",
        "# create a sample dataframe\n",
        "# data = {'id': [1, 2, 3],\n",
        "#         'text': ['This is the first paragraph', 'This is the second paragraph', 'This is the third paragraph']}\n",
        "# df = pd.DataFrame(data)\n",
        "\n",
        "# initialize the CountVectorizer object\n",
        "cv = CountVectorizer()\n",
        "\n",
        "# fit and transform the text data\n",
        "text_counts = cv.fit_transform(df_nw['text'])\n",
        "\n",
        "# convert the text_counts to a pandas dataframe\n",
        "\n"
      ]
    },
    {
      "cell_type": "code",
      "execution_count": null,
      "metadata": {
        "id": "Hpfs9Ifn4oGu"
      },
      "outputs": [],
      "source": [
        "result = df_nw"
      ]
    },
    {
      "cell_type": "code",
      "execution_count": null,
      "metadata": {
        "id": "HqXpkbSJesI4"
      },
      "outputs": [],
      "source": [
        "result['y'], _ = pd.factorize(result['label'])"
      ]
    },
    {
      "cell_type": "code",
      "execution_count": null,
      "metadata": {
        "id": "hvzGaQdzezhV"
      },
      "outputs": [],
      "source": [
        "result.drop('label', axis=1, inplace=True)"
      ]
    },
    {
      "cell_type": "code",
      "execution_count": null,
      "metadata": {
        "id": "suc2fBm0e3wc"
      },
      "outputs": [],
      "source": [
        "# Step 1: Preprocess the text data\n",
        "import nltk\n",
        "from nltk.corpus import stopwords\n",
        "from nltk.stem import WordNetLemmatizer\n",
        "import string\n",
        "\n"
      ]
    },
    {
      "cell_type": "code",
      "execution_count": null,
      "metadata": {
        "id": "RrHtqLSRfCIk",
        "colab": {
          "base_uri": "https://localhost:8080/"
        },
        "outputId": "9006a61d-c383-4d77-914f-31c4acb8de6a"
      },
      "outputs": [
        {
          "output_type": "stream",
          "name": "stderr",
          "text": [
            "[nltk_data] Downloading package punkt to /root/nltk_data...\n",
            "[nltk_data]   Unzipping tokenizers/punkt.zip.\n",
            "[nltk_data] Downloading package stopwords to /root/nltk_data...\n",
            "[nltk_data]   Unzipping corpora/stopwords.zip.\n",
            "[nltk_data] Downloading package wordnet to /root/nltk_data...\n"
          ]
        }
      ],
      "source": [
        "import string\n",
        "import nltk\n",
        "from nltk.corpus import stopwords\n",
        "from nltk.stem import WordNetLemmatizer\n",
        "nltk.download('punkt')\n",
        "nltk.download('stopwords')\n",
        "nltk.download('wordnet')\n",
        "\n",
        "def preprocess_dataframe(df, column):\n",
        "    df[column] = df[column].str.lower() # convert text to lowercase\n",
        "    df[column] = df[column].str.translate(str.maketrans(\"\", \"\", string.punctuation)) # remove punctuation\n",
        "    stop_words = set(stopwords.words(\"english\")) # get list of stop words\n",
        "    lemmatizer = WordNetLemmatizer() # initialize lemmatizer\n",
        "    return df\n",
        "\n",
        "\n",
        "df = preprocess_dataframe(result, \"text\")\n"
      ]
    },
    {
      "cell_type": "code",
      "execution_count": null,
      "metadata": {
        "id": "9Pc1QraIgXc2",
        "colab": {
          "base_uri": "https://localhost:8080/",
          "height": 424
        },
        "outputId": "17d8bd2f-8162-4d07-b88d-0423dfe422cc"
      },
      "outputs": [
        {
          "output_type": "execute_result",
          "data": {
            "text/plain": [
              "       Unnamed: 0                                               text  y\n",
              "0               0  cmv fat acceptance tik tokers and influencers ...  0\n",
              "1               1   cmv it makes sense to compare apples and oranges  0\n",
              "2               2  cmv dismissing an individuals experience becau...  0\n",
              "3               3  cmv if proanorexia groups suicide promotion gr...  0\n",
              "4               4  cmv asian americans generally prospering in th...  0\n",
              "...           ...                                                ... ..\n",
              "12336        1061  how much of your body is your own if im not go...  1\n",
              "12337        1062  how do you keep a space station clean the astr...  1\n",
              "12338        1063  the city where you pay a years rent up front a...  1\n",
              "12339        1064  the bbc app gives you the best of bbc wherever...  1\n",
              "12340        1065  learn how the bbc is working to strengthen tru...  1\n",
              "\n",
              "[12341 rows x 3 columns]"
            ],
            "text/html": [
              "\n",
              "  <div id=\"df-d3a2aa9a-d836-4748-a7e0-5518b931d79f\">\n",
              "    <div class=\"colab-df-container\">\n",
              "      <div>\n",
              "<style scoped>\n",
              "    .dataframe tbody tr th:only-of-type {\n",
              "        vertical-align: middle;\n",
              "    }\n",
              "\n",
              "    .dataframe tbody tr th {\n",
              "        vertical-align: top;\n",
              "    }\n",
              "\n",
              "    .dataframe thead th {\n",
              "        text-align: right;\n",
              "    }\n",
              "</style>\n",
              "<table border=\"1\" class=\"dataframe\">\n",
              "  <thead>\n",
              "    <tr style=\"text-align: right;\">\n",
              "      <th></th>\n",
              "      <th>Unnamed: 0</th>\n",
              "      <th>text</th>\n",
              "      <th>y</th>\n",
              "    </tr>\n",
              "  </thead>\n",
              "  <tbody>\n",
              "    <tr>\n",
              "      <th>0</th>\n",
              "      <td>0</td>\n",
              "      <td>cmv fat acceptance tik tokers and influencers ...</td>\n",
              "      <td>0</td>\n",
              "    </tr>\n",
              "    <tr>\n",
              "      <th>1</th>\n",
              "      <td>1</td>\n",
              "      <td>cmv it makes sense to compare apples and oranges</td>\n",
              "      <td>0</td>\n",
              "    </tr>\n",
              "    <tr>\n",
              "      <th>2</th>\n",
              "      <td>2</td>\n",
              "      <td>cmv dismissing an individuals experience becau...</td>\n",
              "      <td>0</td>\n",
              "    </tr>\n",
              "    <tr>\n",
              "      <th>3</th>\n",
              "      <td>3</td>\n",
              "      <td>cmv if proanorexia groups suicide promotion gr...</td>\n",
              "      <td>0</td>\n",
              "    </tr>\n",
              "    <tr>\n",
              "      <th>4</th>\n",
              "      <td>4</td>\n",
              "      <td>cmv asian americans generally prospering in th...</td>\n",
              "      <td>0</td>\n",
              "    </tr>\n",
              "    <tr>\n",
              "      <th>...</th>\n",
              "      <td>...</td>\n",
              "      <td>...</td>\n",
              "      <td>...</td>\n",
              "    </tr>\n",
              "    <tr>\n",
              "      <th>12336</th>\n",
              "      <td>1061</td>\n",
              "      <td>how much of your body is your own if im not go...</td>\n",
              "      <td>1</td>\n",
              "    </tr>\n",
              "    <tr>\n",
              "      <th>12337</th>\n",
              "      <td>1062</td>\n",
              "      <td>how do you keep a space station clean the astr...</td>\n",
              "      <td>1</td>\n",
              "    </tr>\n",
              "    <tr>\n",
              "      <th>12338</th>\n",
              "      <td>1063</td>\n",
              "      <td>the city where you pay a years rent up front a...</td>\n",
              "      <td>1</td>\n",
              "    </tr>\n",
              "    <tr>\n",
              "      <th>12339</th>\n",
              "      <td>1064</td>\n",
              "      <td>the bbc app gives you the best of bbc wherever...</td>\n",
              "      <td>1</td>\n",
              "    </tr>\n",
              "    <tr>\n",
              "      <th>12340</th>\n",
              "      <td>1065</td>\n",
              "      <td>learn how the bbc is working to strengthen tru...</td>\n",
              "      <td>1</td>\n",
              "    </tr>\n",
              "  </tbody>\n",
              "</table>\n",
              "<p>12341 rows × 3 columns</p>\n",
              "</div>\n",
              "      <button class=\"colab-df-convert\" onclick=\"convertToInteractive('df-d3a2aa9a-d836-4748-a7e0-5518b931d79f')\"\n",
              "              title=\"Convert this dataframe to an interactive table.\"\n",
              "              style=\"display:none;\">\n",
              "        \n",
              "  <svg xmlns=\"http://www.w3.org/2000/svg\" height=\"24px\"viewBox=\"0 0 24 24\"\n",
              "       width=\"24px\">\n",
              "    <path d=\"M0 0h24v24H0V0z\" fill=\"none\"/>\n",
              "    <path d=\"M18.56 5.44l.94 2.06.94-2.06 2.06-.94-2.06-.94-.94-2.06-.94 2.06-2.06.94zm-11 1L8.5 8.5l.94-2.06 2.06-.94-2.06-.94L8.5 2.5l-.94 2.06-2.06.94zm10 10l.94 2.06.94-2.06 2.06-.94-2.06-.94-.94-2.06-.94 2.06-2.06.94z\"/><path d=\"M17.41 7.96l-1.37-1.37c-.4-.4-.92-.59-1.43-.59-.52 0-1.04.2-1.43.59L10.3 9.45l-7.72 7.72c-.78.78-.78 2.05 0 2.83L4 21.41c.39.39.9.59 1.41.59.51 0 1.02-.2 1.41-.59l7.78-7.78 2.81-2.81c.8-.78.8-2.07 0-2.86zM5.41 20L4 18.59l7.72-7.72 1.47 1.35L5.41 20z\"/>\n",
              "  </svg>\n",
              "      </button>\n",
              "      \n",
              "  <style>\n",
              "    .colab-df-container {\n",
              "      display:flex;\n",
              "      flex-wrap:wrap;\n",
              "      gap: 12px;\n",
              "    }\n",
              "\n",
              "    .colab-df-convert {\n",
              "      background-color: #E8F0FE;\n",
              "      border: none;\n",
              "      border-radius: 50%;\n",
              "      cursor: pointer;\n",
              "      display: none;\n",
              "      fill: #1967D2;\n",
              "      height: 32px;\n",
              "      padding: 0 0 0 0;\n",
              "      width: 32px;\n",
              "    }\n",
              "\n",
              "    .colab-df-convert:hover {\n",
              "      background-color: #E2EBFA;\n",
              "      box-shadow: 0px 1px 2px rgba(60, 64, 67, 0.3), 0px 1px 3px 1px rgba(60, 64, 67, 0.15);\n",
              "      fill: #174EA6;\n",
              "    }\n",
              "\n",
              "    [theme=dark] .colab-df-convert {\n",
              "      background-color: #3B4455;\n",
              "      fill: #D2E3FC;\n",
              "    }\n",
              "\n",
              "    [theme=dark] .colab-df-convert:hover {\n",
              "      background-color: #434B5C;\n",
              "      box-shadow: 0px 1px 3px 1px rgba(0, 0, 0, 0.15);\n",
              "      filter: drop-shadow(0px 1px 2px rgba(0, 0, 0, 0.3));\n",
              "      fill: #FFFFFF;\n",
              "    }\n",
              "  </style>\n",
              "\n",
              "      <script>\n",
              "        const buttonEl =\n",
              "          document.querySelector('#df-d3a2aa9a-d836-4748-a7e0-5518b931d79f button.colab-df-convert');\n",
              "        buttonEl.style.display =\n",
              "          google.colab.kernel.accessAllowed ? 'block' : 'none';\n",
              "\n",
              "        async function convertToInteractive(key) {\n",
              "          const element = document.querySelector('#df-d3a2aa9a-d836-4748-a7e0-5518b931d79f');\n",
              "          const dataTable =\n",
              "            await google.colab.kernel.invokeFunction('convertToInteractive',\n",
              "                                                     [key], {});\n",
              "          if (!dataTable) return;\n",
              "\n",
              "          const docLinkHtml = 'Like what you see? Visit the ' +\n",
              "            '<a target=\"_blank\" href=https://colab.research.google.com/notebooks/data_table.ipynb>data table notebook</a>'\n",
              "            + ' to learn more about interactive tables.';\n",
              "          element.innerHTML = '';\n",
              "          dataTable['output_type'] = 'display_data';\n",
              "          await google.colab.output.renderOutput(dataTable, element);\n",
              "          const docLink = document.createElement('div');\n",
              "          docLink.innerHTML = docLinkHtml;\n",
              "          element.appendChild(docLink);\n",
              "        }\n",
              "      </script>\n",
              "    </div>\n",
              "  </div>\n",
              "  "
            ]
          },
          "metadata": {},
          "execution_count": 17
        }
      ],
      "source": [
        "df"
      ]
    },
    {
      "cell_type": "code",
      "execution_count": null,
      "metadata": {
        "id": "vBBiIukOfMHZ"
      },
      "outputs": [],
      "source": [
        "# Step 2: Split the data into training and testing sets\n",
        "from sklearn.model_selection import train_test_split\n",
        "df=df.dropna()\n",
        "X = df['text'] # text data\n",
        "\n",
        "y = df['y'] # label data\n",
        "X_train, X_test, y_train, y_test = train_test_split(X, y, test_size=0.2, random_state=42, shuffle=True)\n",
        "\n",
        "# Step 3: Vectorize the text data\n",
        "from sklearn.feature_extraction.text import TfidfVectorizer\n",
        "\n",
        "vectorizer = TfidfVectorizer()\n",
        "X_train_vectorized = vectorizer.fit_transform(X_train)\n",
        "X_test_vectorized = vectorizer.transform(X_test)\n",
        "\n",
        "\n"
      ]
    },
    {
      "cell_type": "code",
      "execution_count": null,
      "metadata": {
        "id": "TQ3BNEOwg5XE",
        "colab": {
          "base_uri": "https://localhost:8080/"
        },
        "outputId": "a4134bef-1364-48b5-f046-8c6ff99807b1"
      },
      "outputs": [
        {
          "output_type": "execute_result",
          "data": {
            "text/plain": [
              "<2469x85134 sparse matrix of type '<class 'numpy.float64'>'\n",
              "\twith 510751 stored elements in Compressed Sparse Row format>"
            ]
          },
          "metadata": {},
          "execution_count": 19
        }
      ],
      "source": [
        "X_test_vectorized"
      ]
    },
    {
      "cell_type": "code",
      "execution_count": null,
      "metadata": {
        "id": "_XUgw4X5io6u",
        "colab": {
          "base_uri": "https://localhost:8080/"
        },
        "outputId": "4dfeeb2d-c0bf-4c92-99c1-bed6811c676d"
      },
      "outputs": [
        {
          "output_type": "stream",
          "name": "stdout",
          "text": [
            "  (0, 59557)\t0.2133788004329471\n",
            "  (0, 52986)\t0.06975745007330422\n",
            "  (0, 12563)\t0.05564372634899644\n",
            "  (0, 83203)\t0.0771352249307092\n",
            "  (0, 74837)\t0.06748496971838919\n",
            "  (0, 67583)\t0.28241957653107574\n",
            "  (0, 81865)\t0.07270850102671372\n",
            "  (0, 39140)\t0.06647841196223853\n",
            "  (0, 69719)\t0.06937380624015078\n",
            "  (0, 55870)\t0.07162537646896065\n",
            "  (0, 55778)\t0.0746950152854296\n",
            "  (0, 26439)\t0.10303490008607225\n",
            "  (0, 36214)\t0.09755297762995224\n",
            "  (0, 9189)\t0.043217509534649846\n",
            "  (0, 63696)\t0.17925478932891192\n",
            "  (0, 67846)\t0.16099963819358398\n",
            "  (0, 19621)\t0.156271582081809\n",
            "  (0, 54507)\t0.04525456544132882\n",
            "  (0, 67354)\t0.14373975976647713\n",
            "  (0, 72020)\t0.1550074983273971\n",
            "  (0, 35783)\t0.05874669808656833\n",
            "  (0, 74966)\t0.1333839341587356\n",
            "  (0, 12663)\t0.07725918945995375\n",
            "  (0, 76917)\t0.5401874626109704\n",
            "  (0, 9187)\t0.4398621440998256\n",
            "  :\t:\n",
            "  (9871, 41364)\t0.038724906190101764\n",
            "  (9871, 82296)\t0.00879287030539804\n",
            "  (9871, 15773)\t0.01582562916599719\n",
            "  (9871, 79376)\t0.016423196746336275\n",
            "  (9871, 39623)\t0.13097860648019494\n",
            "  (9871, 75783)\t0.06985937393800459\n",
            "  (9871, 33153)\t0.011188255210142207\n",
            "  (9871, 10577)\t0.007488682306698059\n",
            "  (9871, 55843)\t0.02216080769649455\n",
            "  (9871, 8529)\t0.03596640506164639\n",
            "  (9871, 82755)\t0.028406089945280842\n",
            "  (9871, 75078)\t0.03785357586478445\n",
            "  (9871, 31238)\t0.059700379569749995\n",
            "  (9871, 74568)\t0.38044855403931066\n",
            "  (9871, 12563)\t0.037706661133537045\n",
            "  (9871, 74837)\t0.009146162745530087\n",
            "  (9871, 81865)\t0.009854102123019196\n",
            "  (9871, 69719)\t0.01880430930908136\n",
            "  (9871, 55778)\t0.010123332186874147\n",
            "  (9871, 9189)\t0.08200109272239543\n",
            "  (9871, 54507)\t0.14719921981982254\n",
            "  (9871, 35783)\t0.01592374905714338\n",
            "  (9871, 74966)\t0.0271160639445861\n",
            "  (9871, 45556)\t0.019902528542317832\n",
            "  (9871, 10268)\t0.0076192199030854875\n"
          ]
        }
      ],
      "source": [
        "print(X_train_vectorized)"
      ]
    },
    {
      "cell_type": "code",
      "execution_count": null,
      "metadata": {
        "id": "fCiAP31Xhl5a",
        "colab": {
          "base_uri": "https://localhost:8080/"
        },
        "outputId": "1ea35de7-1030-4c2a-ed62-555fb15f9269"
      },
      "outputs": [
        {
          "output_type": "execute_result",
          "data": {
            "text/plain": [
              "<9872x85134 sparse matrix of type '<class 'numpy.float64'>'\n",
              "\twith 2141264 stored elements in Compressed Sparse Row format>"
            ]
          },
          "metadata": {},
          "execution_count": 21
        }
      ],
      "source": [
        "X_train_vectorized"
      ]
    },
    {
      "cell_type": "code",
      "execution_count": null,
      "metadata": {
        "id": "v1OLhDxOhqk8",
        "colab": {
          "base_uri": "https://localhost:8080/"
        },
        "outputId": "1d12edd4-93eb-4c71-9b80-59afd9ffb6cd"
      },
      "outputs": [
        {
          "output_type": "stream",
          "name": "stdout",
          "text": [
            "Accuracy: 0.901174564601053\n",
            "Precision: 0.9054010130856902\n",
            "Recall: 0.6374706921379065\n",
            "F1-score: 0.6865760163819798\n",
            "Confusion matrix:\n",
            " [[  91  235]\n",
            " [   9 2134]]\n"
          ]
        }
      ],
      "source": [
        "from sklearn.linear_model import LogisticRegression\n",
        "\n",
        "model = LogisticRegression()\n",
        "model.fit(X_train_vectorized, y_train)\n",
        "\n",
        "# Step 5: Evaluate the model\n",
        "from sklearn.metrics import accuracy_score, precision_score, recall_score, f1_score, confusion_matrix\n",
        "\n",
        "y_pred = model.predict(X_test_vectorized)\n",
        "accuracy = accuracy_score(y_test, y_pred)\n",
        "precision = precision_score(y_test, y_pred, average='macro')\n",
        "recall = recall_score(y_test, y_pred, average='macro')\n",
        "f1 = f1_score(y_test, y_pred, average='macro')\n",
        "confusion_mat = confusion_matrix(y_test, y_pred)\n",
        "print(\"Accuracy:\", accuracy)\n",
        "print(\"Precision:\", precision)\n",
        "print(\"Recall:\", recall)\n",
        "print(\"F1-score:\", f1)\n",
        "print(\"Confusion matrix:\\n\", confusion_mat)\n",
        "\n"
      ]
    },
    {
      "cell_type": "markdown",
      "metadata": {
        "id": "ZVnkBOe1nuzV"
      },
      "source": [
        "DEEp Learning model"
      ]
    },
    {
      "cell_type": "code",
      "execution_count": null,
      "metadata": {
        "id": "tHNf7FONkj_k"
      },
      "outputs": [],
      "source": [
        "import torch\n",
        "import torch.nn as nn\n",
        "import torch.optim as optim\n",
        "from torch.utils.data import TensorDataset, DataLoader\n",
        "from sklearn.model_selection import train_test_split\n",
        "from sklearn.metrics import accuracy_score\n",
        "\n",
        "X = df['text'].values # text data\n",
        "\n",
        "y = df['y'].values # label data\n",
        "X = vectorizer.fit_transform(X)\n",
        "\n",
        "# Split data into train and test sets\n",
        "X_train, X_test, y_train, y_test = train_test_split(X, y, test_size=0.2, random_state=42)\n",
        "\n",
        "# Convert data to PyTorch tensors\n",
        "X_train_tensor = torch.Tensor(X_train.toarray())\n",
        "X_test_tensor = torch.Tensor(X_test.toarray())\n",
        "y_train_tensor = torch.Tensor(y_train).long()\n",
        "y_test_tensor = torch.Tensor(y_test).long()\n"
      ]
    },
    {
      "cell_type": "code",
      "execution_count": null,
      "metadata": {
        "id": "YS4sxp0LwQSi"
      },
      "outputs": [],
      "source": [
        "\n",
        "# Create PyTorch datasets and dataloaders\n",
        "train_dataset = TensorDataset(X_train_tensor, y_train_tensor)\n",
        "test_dataset = TensorDataset(X_test_tensor, y_test_tensor)\n",
        "train_loader = DataLoader(train_dataset, batch_size=32, shuffle=True)\n",
        "test_loader = DataLoader(test_dataset, batch_size=32, shuffle=True)\n",
        "\n"
      ]
    },
    {
      "cell_type": "code",
      "execution_count": null,
      "metadata": {
        "id": "QJrFklYlNqyT",
        "colab": {
          "base_uri": "https://localhost:8080/"
        },
        "outputId": "2196f7c0-1f36-41e6-e8ba-9e60224c84b8"
      },
      "outputs": [
        {
          "output_type": "execute_result",
          "data": {
            "text/plain": [
              "96592"
            ]
          },
          "metadata": {},
          "execution_count": 25
        }
      ],
      "source": [
        "X_train_tensor.shape[1]"
      ]
    },
    {
      "cell_type": "code",
      "execution_count": null,
      "metadata": {
        "id": "kz-yxJZ1NrLJ"
      },
      "outputs": [],
      "source": [
        "# # Define model architecture\n",
        "\n",
        "\n",
        "# Define model architecture\n",
        "class TextClassifier(nn.Module):\n",
        "    def __init__(self, num_classes):\n",
        "        super(TextClassifier, self).__init__()\n",
        "        self.fc1 = nn.Linear(X_train_tensor.shape[1], 512)\n",
        "        self.ReLU = nn.ReLU()\n",
        "        self.fc2 = nn.Linear(512,256)\n",
        "        # self.dropout = nn.Dropout(p=0.5)\n",
        "        self.fc3 = nn.Linear(256,128)\n",
        "        self.fc4 = nn.Linear(128,64)\n",
        "        # self.dropout = nn.Dropout(p=0.5)\n",
        "        self.fc5 = nn.Linear(64,32)\n",
        "        self.fc6 = nn.Linear(32,16)\n",
        "        # self.dropout = nn.Dropout(p=0.5)\n",
        "        self.fc7 = nn.Linear(16, num_classes)\n",
        "        self.Softmax = nn.Softmax(dim=1)\n",
        "        \n",
        "\n",
        "    def forward(self, x):\n",
        "        x = self.fc1(x)\n",
        "        x = self.ReLU(x)\n",
        "        x = self.fc2(x)\n",
        "        # x = self.dropout(x)\n",
        "        x = self.fc3(x)\n",
        "        x = self.fc4(x)\n",
        "        # x = self.dropout(x)\n",
        "        x = self.fc5(x)\n",
        "        x = self.fc6(x)\n",
        "        # x = self.dropout(x)\n",
        "        x = self.fc7(x)\n",
        "        x= self.Softmax(x)\n",
        "        return x\n"
      ]
    },
    {
      "cell_type": "code",
      "execution_count": null,
      "metadata": {
        "id": "WhyptP_awQh9"
      },
      "outputs": [],
      "source": [
        "# Create model, loss function, and optimizer\n",
        "model = TextClassifier(num_classes=10)\n",
        "# loss_function = nn.CrossEntropyLoss()\n",
        "# optimizer = optim.SGD(model.parameters(), lr=0.1)\n",
        "\n",
        "loss_function = nn.CrossEntropyLoss(reduction='mean')\n",
        "optimizer = torch.optim.SGD(model.parameters(), lr = 0.01)\n"
      ]
    },
    {
      "cell_type": "code",
      "execution_count": null,
      "metadata": {
        "id": "qeprNZiuw8Iu",
        "colab": {
          "base_uri": "https://localhost:8080/"
        },
        "outputId": "d67edf41-9fdc-4299-c8e5-bffe3afb495a"
      },
      "outputs": [
        {
          "output_type": "stream",
          "name": "stdout",
          "text": [
            "Epoch: 1, Train Loss: 2.2853, Val Loss: 2.2478\n",
            "Epoch: 2, Train Loss: 2.0625, Val Loss: 1.6909\n",
            "Epoch: 3, Train Loss: 1.6189, Val Loss: 1.5992\n",
            "Epoch: 4, Train Loss: 1.5974, Val Loss: 1.5948\n",
            "Epoch: 5, Train Loss: 1.5951, Val Loss: 1.5935\n"
          ]
        }
      ],
      "source": [
        "epochs = 5\n",
        "l1=[]\n",
        "l2=[]\n",
        "running_lossy = 0.\n",
        "for epoch in range(epochs):\n",
        "  running_loss = 0.\n",
        "\n",
        "  for data in train_loader:\n",
        "    inputs, outputs = data\n",
        "    optimizer.zero_grad()\n",
        "\n",
        "    predictions = model.forward(inputs) \n",
        "    loss = loss_function(predictions.squeeze(), outputs)\n",
        "    loss.backward()\n",
        "    optimizer.step()\n",
        "\n",
        "    running_loss += loss.item()\n",
        "    train_loss = running_loss / len(train_loader)\n",
        "  l1.append(running_loss / len(train_loader))\n",
        "  \n",
        "  running_loss = 0.\n",
        "  with torch.no_grad():\n",
        "    for data in test_loader:\n",
        "      inputs, outputs = data\n",
        "      predictions = model.forward(inputs)\n",
        "      loss = loss_function(predictions.squeeze(), outputs)\n",
        "      running_loss += loss.item()\n",
        "      val_loss = running_loss / len(test_loader)\n",
        "  l2.append(val_loss)\n",
        "\n",
        "  print(f'Epoch: {epoch+1}, Train Loss: {train_loss:.4f}, Val Loss: {val_loss:.4f}')"
      ]
    },
    {
      "cell_type": "code",
      "execution_count": null,
      "metadata": {
        "id": "Dzl1TDQrx5Xx",
        "colab": {
          "base_uri": "https://localhost:8080/",
          "height": 489
        },
        "outputId": "8fe6984d-4617-4bc1-b98a-656b70f82d02"
      },
      "outputs": [
        {
          "output_type": "execute_result",
          "data": {
            "text/plain": [
              "<matplotlib.legend.Legend at 0x7f928c5294b0>"
            ]
          },
          "metadata": {},
          "execution_count": 29
        },
        {
          "output_type": "display_data",
          "data": {
            "text/plain": [
              "<Figure size 640x480 with 1 Axes>"
            ],
            "image/png": "[encoded data removed]"
          },
          "metadata": {}
        }
      ],
      "source": [
        "\n",
        "import matplotlib.pyplot as plt\n",
        "\n",
        "plt.plot(np.arange(epochs),l1 , label = \"train_loss\")\n",
        "plt.plot(np.arange(epochs),l2 , label = \"Val_Loss\")\n",
        "\n",
        "plt.xlabel(\"Epochs\")\n",
        "plt.ylabel(\"Loss\")\n",
        "plt.title(\"Loss Curve\")\n",
        "plt.legend()"
      ]
    },
    {
      "cell_type": "code",
      "execution_count": null,
      "metadata": {
        "id": "ZBXx1LVV9FZV"
      },
      "outputs": [],
      "source": [
        "\n",
        "\n",
        "device = torch.device(\"cuda\" if torch.cuda.is_available() else \"cpu\")\n"
      ]
    },
    {
      "cell_type": "code",
      "execution_count": null,
      "metadata": {
        "id": "BCvnC3uNwwbC"
      },
      "outputs": [],
      "source": [
        "predictions = []\n",
        "with torch.no_grad():\n",
        "  for inputs, labels in test_loader:\n",
        "    inputs, labels = inputs.to(device), labels.to(device)\n",
        "    model = model.to(device)\n",
        "    output = model(inputs)\n",
        "    _, pred = torch.max(output.data, 1)\n",
        "    predictions.extend(pred.cpu().numpy().tolist())\n",
        "test_accuracy = accuracy_score(y_test.flatten(), predictions)"
      ]
    },
    {
      "cell_type": "code",
      "execution_count": null,
      "metadata": {
        "id": "VA_edYQHGmIc",
        "colab": {
          "base_uri": "https://localhost:8080/"
        },
        "outputId": "a0576482-c320-450c-e637-9e8b7c848cde"
      },
      "outputs": [
        {
          "output_type": "execute_result",
          "data": {
            "text/plain": [
              "0.8679627379505873"
            ]
          },
          "metadata": {},
          "execution_count": 33
        }
      ],
      "source": [
        "test_accuracy"
      ]
    },
    {
      "cell_type": "code",
      "execution_count": null,
      "metadata": {
        "id": "pmVkZUL28zAV",
        "colab": {
          "base_uri": "https://localhost:8080/"
        },
        "outputId": "18b92132-94a1-4541-d17f-63f8a7c0b83c"
      },
      "outputs": [
        {
          "output_type": "stream",
          "name": "stdout",
          "text": [
            "Testing Accuracy: 86.63426%\n"
          ]
        }
      ],
      "source": [
        "batch_size = 32\n",
        "num_sample = len(y_test) / 9\n",
        "num_samples = len(y_test) \n",
        "num_batches = num_samples // batch_size\n",
        "correct_predictions = 0\n",
        "\n",
        "with torch.no_grad():\n",
        "    for i in range(num_batches):\n",
        "        batch_start = i * batch_size\n",
        "        batch_end = (i + 1) * batch_size\n",
        "        X_batch = torch.tensor(X_test[batch_start:batch_end].toarray(), dtype=torch.float32).to(device)\n",
        "        y_batch = torch.tensor(y_test[batch_start:batch_end]).to(device)\n",
        "        predictions = model(X_batch)\n",
        "        # Get the index of the predicted class with the highest probability\n",
        "        _, predicted = torch.max(predictions, 1)\n",
        "        # Count the number of correct predictions in this batch\n",
        "        correct_predictions += (predicted == y_batch).sum().item()\n",
        "\n",
        "# Calculate the overall accuracy\n",
        "accuracy = 100 * correct_predictions / num_samples\n",
        "print('Testing Accuracy: {:.5f}%'.format(accuracy))\n"
      ]
    },
    {
      "cell_type": "code",
      "execution_count": null,
      "metadata": {
        "id": "qIg_qklaCNEp"
      },
      "outputs": [],
      "source": []
    },
    {
      "cell_type": "code",
      "execution_count": null,
      "metadata": {
        "id": "CtJYjPLj124S",
        "colab": {
          "base_uri": "https://localhost:8080/"
        },
        "outputId": "f7e568aa-84ab-49cb-d9e8-8aa61488883f"
      },
      "outputs": [
        {
          "output_type": "execute_result",
          "data": {
            "text/plain": [
              "0.8679627379505873"
            ]
          },
          "metadata": {},
          "execution_count": 35
        }
      ],
      "source": [
        "test_accuracy"
      ]
    },
    {
      "cell_type": "code",
      "execution_count": null,
      "metadata": {
        "id": "uLFEVmn72OXX"
      },
      "outputs": [],
      "source": [
        "predictions = []\n",
        "tz=[]\n",
        "# with torch.no_grad():\n",
        "for inputs, labels in test_loader:\n",
        "  inputs, labels = inputs.to(device), labels.to(device)\n",
        "  model = model.to(device)\n",
        "  output = model(inputs)\n",
        "  _, pred = torch.max(output.data, 1)\n",
        "  predictions.extend(pred.cpu().numpy().tolist())\n",
        "predictions = np.array(predictions)\n",
        "tz.append(accuracy_score(y_test.flatten(), predictions))\n"
      ]
    },
    {
      "cell_type": "code",
      "execution_count": null,
      "metadata": {
        "id": "cszy0Ths22ZO",
        "colab": {
          "base_uri": "https://localhost:8080/"
        },
        "outputId": "aca455d9-034d-4ae9-badb-8b10443a38ce"
      },
      "outputs": [
        {
          "output_type": "execute_result",
          "data": {
            "text/plain": [
              "{1}"
            ]
          },
          "metadata": {},
          "execution_count": 43
        }
      ],
      "source": [
        "set(predictions)"
      ]
    },
    {
      "cell_type": "code",
      "execution_count": null,
      "metadata": {
        "id": "KLKUOecu3YTl"
      },
      "outputs": [],
      "source": []
    }
  ],
  "metadata": {
    "colab": {
      "provenance": [],
      "gpuType": "T4",
      "include_colab_link": true
    },
    "kernelspec": {
      "display_name": "Python 3",
      "name": "python3"
    },
    "language_info": {
      "name": "python"
    },
    "accelerator": "GPU",
    "gpuClass": "standard"
  },
  "nbformat": 4,
  "nbformat_minor": 0
}