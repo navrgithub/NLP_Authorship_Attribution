{
  "nbformat": 4,
  "nbformat_minor": 0,
  "metadata": {
    "colab": {
      "provenance": [],
      "include_colab_link": true
    },
    "kernelspec": {
      "name": "python3",
      "display_name": "Python 3"
    },
    "language_info": {
      "name": "python"
    }
  },
  "cells": [
    {
      "cell_type": "markdown",
      "metadata": {
        "id": "view-in-github",
        "colab_type": "text"
      },
      "source": [
        "<a href=\"https://colab.research.google.com/github/navrgithub/NLP_Authorship_Attribution/blob/main/RST_BERT_BILSTM_CNN_task1.ipynb\" target=\"_parent\"><img src=\"https://colab.research.google.com/assets/colab-badge.svg\" alt=\"Open In Colab\"/></a>"
      ]
    },
    {
      "cell_type": "code",
      "source": [
        "import pandas as pd\n",
        "import torch\n",
        "from transformers import BertTokenizer, BertModel\n",
        "import torch.nn as nn\n",
        "import torch.nn.functional as F\n",
        "from torch.utils.data import Dataset, DataLoader\n",
        "from pyRST import RSTParser\n",
        "import spacy"
      ],
      "metadata": {
        "id": "HzjNYuThi6Pw"
      },
      "execution_count": null,
      "outputs": []
    },
    {
      "cell_type": "code",
      "source": [
        "# Define the RST+BERT+BILSTM-CNN model\n",
        "class RST_BERT_BILSTM_CNN(nn.Module):\n",
        "    def __init__(self, bert_hidden_size, num_classes):\n",
        "        super(RST_BERT_BILSTM_CNN, self).__init__()\n",
        "        self.bert = BertModel.from_pretrained('bert-base-uncased')\n",
        "        self.lstm = nn.LSTM(bert_hidden_size, bert_hidden_size, batch_first=True)\n",
        "        self.conv1d = nn.Conv1d(bert_hidden_size, bert_hidden_size, kernel_size=3)\n",
        "        self.fc = nn.Linear(bert_hidden_size, num_classes)\n",
        "\n",
        "    def forward(self, rst_embeddings, input_ids, attention_mask):\n",
        "        _, pooled_output = self.bert(input_ids, attention_mask)\n",
        "        lstm_output, _ = self.lstm(rst_embeddings)\n",
        "        conv_output = self.conv1d(lstm_output.permute(0, 2, 1))\n",
        "        conv_output = F.relu(conv_output)\n",
        "        conv_output = torch.max(conv_output, dim=2)[0]\n",
        "        concat_output = torch.cat((pooled_output, conv_output), dim=1)\n",
        "        output = self.fc(concat_output)\n",
        "        return output\n"
      ],
      "metadata": {
        "id": "rTAO0935i6qw"
      },
      "execution_count": null,
      "outputs": []
    },
    {
      "cell_type": "code",
      "source": [
        "# Define a custom dataset\n",
        "class CustomDataset(Dataset):\n",
        "    def __init__(self, data):\n",
        "        self.data = data\n",
        "\n",
        "    def __len__(self):\n",
        "        return len(self.data)\n",
        "\n",
        "    def __getitem__(self, index):\n",
        "        return self.data['RST_Embeddings'][index], self.data['Generation'][index], self.data['label'][index]"
      ],
      "metadata": {
        "id": "UhnvLs4Li6oA"
      },
      "execution_count": null,
      "outputs": []
    },
    {
      "cell_type": "code",
      "source": [
        "# Load the dataframe\n",
        "df = pd.read_csv('final_task1_data.csv')\n",
        "\n",
        "# Initialize the RSTParser and spaCy English model\n",
        "rst_parser = RSTParser()\n",
        "nlp = spacy.load('en_core_web_sm')\n",
        "\n",
        "# Preprocess the text data and extract RST features\n",
        "df['Generation'] = df['Generation'].apply(lambda x: x.lower())  # Convert to lowercase\n",
        "rst_embeddings = []\n",
        "for text in df['Generation']:\n",
        "    doc = nlp(text)\n",
        "    rst_tree = rst_parser.parse(doc)\n",
        "    rst_features = rst_parser.extract_features(rst_tree)\n",
        "    rst_embeddings.append(rst_features)\n",
        "df['RST_Embeddings'] = rst_embeddings\n",
        "\n",
        "# Save the updated dataframe\n",
        "df.to_csv('rst_embd_updated_data_task1.csv', index=False)"
      ],
      "metadata": {
        "id": "1lTN1LYUi6l4"
      },
      "execution_count": null,
      "outputs": []
    },
    {
      "cell_type": "code",
      "source": [
        "# Load the BERT tokenizer\n",
        "tokenizer = BertTokenizer.from_pretrained('bert-base-uncased')\n",
        "\n",
        "# Tokenize the text data\n",
        "encoded_inputs = tokenizer(df['Generation'].tolist(), padding=True, truncation=True, return_tensors='pt')\n",
        "\n",
        "# Create the custom dataset\n",
        "dataset = CustomDataset(df)"
      ],
      "metadata": {
        "id": "bs99-9C2i6jV"
      },
      "execution_count": null,
      "outputs": []
    },
    {
      "cell_type": "code",
      "source": [
        "# Define the hyperparameters\n",
        "batch_size = 16\n",
        "num_epochs = 10\n",
        "bert_hidden_size = 768\n",
        "num_classes = 2"
      ],
      "metadata": {
        "id": "wE0Hm2FXi6gk"
      },
      "execution_count": null,
      "outputs": []
    },
    {
      "cell_type": "code",
      "source": [
        "# Create the data loader\n",
        "dataloader = DataLoader(dataset, batch_size=batch_size, shuffle=True)"
      ],
      "metadata": {
        "id": "sIHXp85HjQvQ"
      },
      "execution_count": null,
      "outputs": []
    },
    {
      "cell_type": "code",
      "source": [
        "# Instantiate the RST+BERT+BILSTM-CNN model\n",
        "model = RST_BERT_BILSTM_CNN(bert_hidden_size, num_classes)\n",
        "\n",
        "# Define the loss function and optimizer\n",
        "criterion = nn.CrossEntropyLoss()\n",
        "optimizer = torch.optim.AdamW(model.parameters())"
      ],
      "metadata": {
        "id": "PL-NoTjXjQtT"
      },
      "execution_count": null,
      "outputs": []
    },
    {
      "cell_type": "code",
      "source": [
        "# Training loop\n",
        "for epoch in range(num_epochs):\n",
        "    for rst_embeddings, generations, labels in dataloader:\n",
        "        input_ids = encoded_inputs['input_ids'][generations]\n",
        "                attention_mask = encoded_inputs['attention_mask'][generations]\n",
        "\n",
        "        # Clear gradients\n",
        "        optimizer.zero_grad()\n",
        "\n",
        "        # Forward pass\n",
        "        outputs = model(rst_embeddings, input_ids, attention_mask)\n",
        "        \n",
        "        # Calculate loss\n",
        "        loss = criterion(outputs, labels)\n",
        "        \n",
        "        # Backward pass\n",
        "        loss.backward()\n",
        "        \n",
        "        # Update weights\n",
        "        optimizer.step()\n",
        "\n",
        "# Evaluate the model\n",
        "model.eval()"
      ],
      "metadata": {
        "id": "61rQeYjbjXTF"
      },
      "execution_count": null,
      "outputs": []
    },
    {
      "cell_type": "code",
      "source": [
        "with torch.no_grad():\n",
        "    for rst_embeddings, generations, labels in dataloader:\n",
        "        input_ids = encoded_inputs['input_ids'][generations]\n",
        "        attention_mask = encoded_inputs['attention_mask'][generations]\n",
        "        \n",
        "        # Forward pass\n",
        "        outputs = model(rst_embeddings, input_ids, attention_mask)\n",
        "        \n",
        "        # Calculate predictions\n",
        "        _, predicted = torch.max(outputs, 1)\n",
        "        \n",
        "        # Calculate accuracy, precision, and F1 score\n",
        "        correct = (predicted == labels).sum().item()\n",
        "        total = labels.size(0)\n",
        "        accuracy = correct / total\n",
        "        precision = precision_score(labels, predicted)\n",
        "        f1 = f1_score(labels, predicted)\n",
        "\n",
        "        # Print performance metrics\n",
        "        print(f\"Accuracy: {accuracy}\")\n",
        "        print(f\"Precision: {precision}\")\n",
        "        print(f\"F1 Score: {f1}\")"
      ],
      "metadata": {
        "id": "eYQHxP9KjXQ5"
      },
      "execution_count": null,
      "outputs": []
    }
  ]
}